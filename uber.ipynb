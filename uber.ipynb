{
 "cells": [
  {
   "cell_type": "code",
   "execution_count": 1,
   "metadata": {},
   "outputs": [],
   "source": [
    "import pandas as pd\n",
    "import numpy as np\n",
    "import seaborn as sns\n",
    "import matplotlib.pyplot as plt\n",
    "\n"
   ]
  },
  {
   "cell_type": "code",
   "execution_count": 2,
   "metadata": {},
   "outputs": [],
   "source": [
    "import os"
   ]
  },
  {
   "cell_type": "code",
   "execution_count": 3,
   "metadata": {},
   "outputs": [
    {
     "data": {
      "text/plain": [
       "['other-American_B01362.csv',\n",
       " 'other-Carmel_B00256.csv',\n",
       " 'other-Dial7_B00887.csv',\n",
       " 'other-Diplo_B01196.csv',\n",
       " 'other-Federal_02216.csv',\n",
       " 'other-FHV-services_jan-aug-2015.csv',\n",
       " 'other-Firstclass_B01536.csv',\n",
       " 'other-Highclass_B01717.csv',\n",
       " 'other-Lyft_B02510.csv',\n",
       " 'other-Prestige_B01338.csv',\n",
       " 'other-Skyline_B00111.csv',\n",
       " 'Uber-Jan-Feb-FOIL.csv',\n",
       " 'uber-raw-data-apr14.csv',\n",
       " 'uber-raw-data-aug14.csv',\n",
       " 'uber-raw-data-janjune-15.csv',\n",
       " 'uber-raw-data-janjune-15_sample.csv',\n",
       " 'uber-raw-data-jul14.csv',\n",
       " 'uber-raw-data-jun14.csv',\n",
       " 'uber-raw-data-may14.csv',\n",
       " 'uber-raw-data-sep14.csv']"
      ]
     },
     "execution_count": 3,
     "metadata": {},
     "output_type": "execute_result"
    }
   ],
   "source": [
    "os.listdir(r\"C:\\Users\\suraj\\Downloads\\Uber\\Datasets\")"
   ]
  },
  {
   "cell_type": "code",
   "execution_count": 9,
   "metadata": {},
   "outputs": [],
   "source": [
    "uber_15 = pd.read_csv(r\"C:\\Users\\suraj\\Downloads\\Uber\\Datasets/uber-raw-data-janjune-15_sample.csv\")"
   ]
  },
  {
   "cell_type": "code",
   "execution_count": 10,
   "metadata": {},
   "outputs": [
    {
     "data": {
      "text/plain": [
       "(100000, 4)"
      ]
     },
     "execution_count": 10,
     "metadata": {},
     "output_type": "execute_result"
    }
   ],
   "source": [
    "uber_15.shape"
   ]
  },
  {
   "cell_type": "code",
   "execution_count": 11,
   "metadata": {},
   "outputs": [
    {
     "data": {
      "text/plain": [
       "pandas.core.frame.DataFrame"
      ]
     },
     "execution_count": 11,
     "metadata": {},
     "output_type": "execute_result"
    }
   ],
   "source": [
    "type(uber_15)"
   ]
  },
  {
   "cell_type": "code",
   "execution_count": 13,
   "metadata": {},
   "outputs": [
    {
     "data": {
      "text/plain": [
       "np.int64(54)"
      ]
     },
     "execution_count": 13,
     "metadata": {},
     "output_type": "execute_result"
    }
   ],
   "source": [
    "uber_15.duplicated().sum()"
   ]
  },
  {
   "cell_type": "code",
   "execution_count": 14,
   "metadata": {},
   "outputs": [],
   "source": [
    "uber_15.drop_duplicates(inplace=True)"
   ]
  },
  {
   "cell_type": "code",
   "execution_count": 15,
   "metadata": {},
   "outputs": [
    {
     "data": {
      "text/plain": [
       "np.int64(0)"
      ]
     },
     "execution_count": 15,
     "metadata": {},
     "output_type": "execute_result"
    }
   ],
   "source": [
    "uber_15.duplicated().sum()"
   ]
  },
  {
   "cell_type": "code",
   "execution_count": 16,
   "metadata": {},
   "outputs": [
    {
     "data": {
      "text/plain": [
       "(99946, 4)"
      ]
     },
     "execution_count": 16,
     "metadata": {},
     "output_type": "execute_result"
    }
   ],
   "source": [
    "uber_15.shape"
   ]
  },
  {
   "cell_type": "code",
   "execution_count": 17,
   "metadata": {},
   "outputs": [
    {
     "data": {
      "text/plain": [
       "Dispatching_base_num    object\n",
       "Pickup_date             object\n",
       "Affiliated_base_num     object\n",
       "locationID               int64\n",
       "dtype: object"
      ]
     },
     "execution_count": 17,
     "metadata": {},
     "output_type": "execute_result"
    }
   ],
   "source": [
    "uber_15.dtypes"
   ]
  },
  {
   "cell_type": "code",
   "execution_count": 18,
   "metadata": {},
   "outputs": [
    {
     "data": {
      "text/plain": [
       "Dispatching_base_num       0\n",
       "Pickup_date                0\n",
       "Affiliated_base_num     1116\n",
       "locationID                 0\n",
       "dtype: int64"
      ]
     },
     "execution_count": 18,
     "metadata": {},
     "output_type": "execute_result"
    }
   ],
   "source": [
    "uber_15.isnull().sum()"
   ]
  },
  {
   "cell_type": "code",
   "execution_count": 20,
   "metadata": {},
   "outputs": [
    {
     "data": {
      "text/plain": [
       "'2015-05-02 21:43:00'"
      ]
     },
     "execution_count": 20,
     "metadata": {},
     "output_type": "execute_result"
    }
   ],
   "source": [
    "uber_15['Pickup_date'][0]"
   ]
  },
  {
   "cell_type": "code",
   "execution_count": 22,
   "metadata": {},
   "outputs": [
    {
     "data": {
      "text/plain": [
       "str"
      ]
     },
     "execution_count": 22,
     "metadata": {},
     "output_type": "execute_result"
    }
   ],
   "source": [
    "type(uber_15['Pickup_date'][0])"
   ]
  },
  {
   "cell_type": "code",
   "execution_count": 23,
   "metadata": {},
   "outputs": [],
   "source": [
    "uber_15['Pickup_date'] = pd.to_datetime(uber_15['Pickup_date'])"
   ]
  },
  {
   "cell_type": "code",
   "execution_count": 24,
   "metadata": {},
   "outputs": [
    {
     "data": {
      "text/plain": [
       "dtype('<M8[ns]')"
      ]
     },
     "execution_count": 24,
     "metadata": {},
     "output_type": "execute_result"
    }
   ],
   "source": [
    "uber_15['Pickup_date'].dtype"
   ]
  },
  {
   "cell_type": "code",
   "execution_count": 25,
   "metadata": {},
   "outputs": [
    {
     "data": {
      "text/plain": [
       "Timestamp('2015-05-02 21:43:00')"
      ]
     },
     "execution_count": 25,
     "metadata": {},
     "output_type": "execute_result"
    }
   ],
   "source": [
    "uber_15['Pickup_date'][0]"
   ]
  },
  {
   "cell_type": "code",
   "execution_count": 26,
   "metadata": {},
   "outputs": [
    {
     "data": {
      "text/plain": [
       "pandas._libs.tslibs.timestamps.Timestamp"
      ]
     },
     "execution_count": 26,
     "metadata": {},
     "output_type": "execute_result"
    }
   ],
   "source": [
    "type(uber_15['Pickup_date'][0])"
   ]
  },
  {
   "cell_type": "code",
   "execution_count": 27,
   "metadata": {},
   "outputs": [
    {
     "data": {
      "text/plain": [
       "Dispatching_base_num            object\n",
       "Pickup_date             datetime64[ns]\n",
       "Affiliated_base_num             object\n",
       "locationID                       int64\n",
       "dtype: object"
      ]
     },
     "execution_count": 27,
     "metadata": {},
     "output_type": "execute_result"
    }
   ],
   "source": [
    "uber_15.dtypes"
   ]
  },
  {
   "cell_type": "code",
   "execution_count": 28,
   "metadata": {},
   "outputs": [],
   "source": [
    "# WHICH MONTH HAS MAX UBER PICKUP"
   ]
  },
  {
   "cell_type": "code",
   "execution_count": 30,
   "metadata": {},
   "outputs": [
    {
     "data": {
      "text/plain": [
       "0            May\n",
       "1        January\n",
       "2          March\n",
       "3          April\n",
       "4          March\n",
       "          ...   \n",
       "99995      April\n",
       "99996      March\n",
       "99997      March\n",
       "99998        May\n",
       "99999       June\n",
       "Name: month, Length: 99946, dtype: object"
      ]
     },
     "execution_count": 30,
     "metadata": {},
     "output_type": "execute_result"
    }
   ],
   "source": [
    "uber_15['month'] = uber_15['Pickup_date'].dt.month_name()\n",
    "uber_15['month']"
   ]
  },
  {
   "cell_type": "code",
   "execution_count": 31,
   "metadata": {},
   "outputs": [
    {
     "data": {
      "text/plain": [
       "month\n",
       "June        19620\n",
       "May         18660\n",
       "April       15982\n",
       "March       15969\n",
       "February    15896\n",
       "January     13819\n",
       "Name: count, dtype: int64"
      ]
     },
     "execution_count": 31,
     "metadata": {},
     "output_type": "execute_result"
    }
   ],
   "source": [
    "uber_15['month'].value_counts()"
   ]
  },
  {
   "cell_type": "code",
   "execution_count": 33,
   "metadata": {},
   "outputs": [
    {
     "data": {
      "text/plain": [
       "<Axes: xlabel='month'>"
      ]
     },
     "execution_count": 33,
     "metadata": {},
     "output_type": "execute_result"
    },
    {
     "data": {
      "image/png": "[encoded data removed]",
      "text/plain": [
       "<Figure size 640x480 with 1 Axes>"
      ]
     },
     "metadata": {},
     "output_type": "display_data"
    }
   ],
   "source": [
    "uber_15['month'].value_counts().plot(kind= 'bar')"
   ]
  },
  {
   "cell_type": "code",
   "execution_count": 34,
   "metadata": {},
   "outputs": [],
   "source": [
    "uber_15['weekday'] = uber_15['Pickup_date'].dt.day_name()\n",
    "uber_15['day'] = uber_15['Pickup_date'].dt.day\n",
    "uber_15['hour'] = uber_15['Pickup_date'].dt.hour\n",
    "uber_15['minute'] = uber_15['Pickup_date'].dt.minute\n"
   ]
  },
  {
   "cell_type": "code",
   "execution_count": 35,
   "metadata": {},
   "outputs": [
    {
     "data": {
      "text/html": [
       "<div>\n",
       "<style scoped>\n",
       "    .dataframe tbody tr th:only-of-type {\n",
       "        vertical-align: middle;\n",
       "    }\n",
       "\n",
       "    .dataframe tbody tr th {\n",
       "        vertical-align: top;\n",
       "    }\n",
       "\n",
       "    .dataframe thead th {\n",
       "        text-align: right;\n",
       "    }\n",
       "</style>\n",
       "<table border=\"1\" class=\"dataframe\">\n",
       "  <thead>\n",
       "    <tr style=\"text-align: right;\">\n",
       "      <th></th>\n",
       "      <th>Dispatching_base_num</th>\n",
       "      <th>Pickup_date</th>\n",
       "      <th>Affiliated_base_num</th>\n",
       "      <th>locationID</th>\n",
       "      <th>month</th>\n",
       "      <th>weekday</th>\n",
       "      <th>day</th>\n",
       "      <th>hour</th>\n",
       "      <th>minute</th>\n",
       "    </tr>\n",
       "  </thead>\n",
       "  <tbody>\n",
       "    <tr>\n",
       "      <th>0</th>\n",
       "      <td>B02617</td>\n",
       "      <td>2015-05-02 21:43:00</td>\n",
       "      <td>B02764</td>\n",
       "      <td>237</td>\n",
       "      <td>May</td>\n",
       "      <td>Saturday</td>\n",
       "      <td>2</td>\n",
       "      <td>21</td>\n",
       "      <td>43</td>\n",
       "    </tr>\n",
       "    <tr>\n",
       "      <th>1</th>\n",
       "      <td>B02682</td>\n",
       "      <td>2015-01-20 19:52:59</td>\n",
       "      <td>B02682</td>\n",
       "      <td>231</td>\n",
       "      <td>January</td>\n",
       "      <td>Tuesday</td>\n",
       "      <td>20</td>\n",
       "      <td>19</td>\n",
       "      <td>52</td>\n",
       "    </tr>\n",
       "    <tr>\n",
       "      <th>2</th>\n",
       "      <td>B02617</td>\n",
       "      <td>2015-03-19 20:26:00</td>\n",
       "      <td>B02617</td>\n",
       "      <td>161</td>\n",
       "      <td>March</td>\n",
       "      <td>Thursday</td>\n",
       "      <td>19</td>\n",
       "      <td>20</td>\n",
       "      <td>26</td>\n",
       "    </tr>\n",
       "    <tr>\n",
       "      <th>3</th>\n",
       "      <td>B02764</td>\n",
       "      <td>2015-04-10 17:38:00</td>\n",
       "      <td>B02764</td>\n",
       "      <td>107</td>\n",
       "      <td>April</td>\n",
       "      <td>Friday</td>\n",
       "      <td>10</td>\n",
       "      <td>17</td>\n",
       "      <td>38</td>\n",
       "    </tr>\n",
       "    <tr>\n",
       "      <th>4</th>\n",
       "      <td>B02764</td>\n",
       "      <td>2015-03-23 07:03:00</td>\n",
       "      <td>B00111</td>\n",
       "      <td>140</td>\n",
       "      <td>March</td>\n",
       "      <td>Monday</td>\n",
       "      <td>23</td>\n",
       "      <td>7</td>\n",
       "      <td>3</td>\n",
       "    </tr>\n",
       "  </tbody>\n",
       "</table>\n",
       "</div>"
      ],
      "text/plain": [
       "  Dispatching_base_num         Pickup_date Affiliated_base_num  locationID  \\\n",
       "0               B02617 2015-05-02 21:43:00              B02764         237   \n",
       "1               B02682 2015-01-20 19:52:59              B02682         231   \n",
       "2               B02617 2015-03-19 20:26:00              B02617         161   \n",
       "3               B02764 2015-04-10 17:38:00              B02764         107   \n",
       "4               B02764 2015-03-23 07:03:00              B00111         140   \n",
       "\n",
       "     month   weekday  day  hour  minute  \n",
       "0      May  Saturday    2    21      43  \n",
       "1  January   Tuesday   20    19      52  \n",
       "2    March  Thursday   19    20      26  \n",
       "3    April    Friday   10    17      38  \n",
       "4    March    Monday   23     7       3  "
      ]
     },
     "execution_count": 35,
     "metadata": {},
     "output_type": "execute_result"
    }
   ],
   "source": [
    "uber_15.head(5)"
   ]
  },
  {
   "cell_type": "code",
   "execution_count": 39,
   "metadata": {},
   "outputs": [
    {
     "data": {
      "text/html": [
       "<div>\n",
       "<style scoped>\n",
       "    .dataframe tbody tr th:only-of-type {\n",
       "        vertical-align: middle;\n",
       "    }\n",
       "\n",
       "    .dataframe tbody tr th {\n",
       "        vertical-align: top;\n",
       "    }\n",
       "\n",
       "    .dataframe thead th {\n",
       "        text-align: right;\n",
       "    }\n",
       "</style>\n",
       "<table border=\"1\" class=\"dataframe\">\n",
       "  <thead>\n",
       "    <tr style=\"text-align: right;\">\n",
       "      <th>weekday</th>\n",
       "      <th>Friday</th>\n",
       "      <th>Monday</th>\n",
       "      <th>Saturday</th>\n",
       "      <th>Sunday</th>\n",
       "      <th>Thursday</th>\n",
       "      <th>Tuesday</th>\n",
       "      <th>Wednesday</th>\n",
       "    </tr>\n",
       "    <tr>\n",
       "      <th>month</th>\n",
       "      <th></th>\n",
       "      <th></th>\n",
       "      <th></th>\n",
       "      <th></th>\n",
       "      <th></th>\n",
       "      <th></th>\n",
       "      <th></th>\n",
       "    </tr>\n",
       "  </thead>\n",
       "  <tbody>\n",
       "    <tr>\n",
       "      <th>April</th>\n",
       "      <td>2365</td>\n",
       "      <td>1833</td>\n",
       "      <td>2508</td>\n",
       "      <td>2052</td>\n",
       "      <td>2823</td>\n",
       "      <td>1880</td>\n",
       "      <td>2521</td>\n",
       "    </tr>\n",
       "    <tr>\n",
       "      <th>February</th>\n",
       "      <td>2655</td>\n",
       "      <td>1970</td>\n",
       "      <td>2550</td>\n",
       "      <td>2183</td>\n",
       "      <td>2396</td>\n",
       "      <td>2129</td>\n",
       "      <td>2013</td>\n",
       "    </tr>\n",
       "    <tr>\n",
       "      <th>January</th>\n",
       "      <td>2508</td>\n",
       "      <td>1353</td>\n",
       "      <td>2745</td>\n",
       "      <td>1651</td>\n",
       "      <td>2378</td>\n",
       "      <td>1444</td>\n",
       "      <td>1740</td>\n",
       "    </tr>\n",
       "    <tr>\n",
       "      <th>June</th>\n",
       "      <td>2793</td>\n",
       "      <td>2848</td>\n",
       "      <td>3037</td>\n",
       "      <td>2485</td>\n",
       "      <td>2767</td>\n",
       "      <td>3187</td>\n",
       "      <td>2503</td>\n",
       "    </tr>\n",
       "    <tr>\n",
       "      <th>March</th>\n",
       "      <td>2465</td>\n",
       "      <td>2115</td>\n",
       "      <td>2522</td>\n",
       "      <td>2379</td>\n",
       "      <td>2093</td>\n",
       "      <td>2388</td>\n",
       "      <td>2007</td>\n",
       "    </tr>\n",
       "    <tr>\n",
       "      <th>May</th>\n",
       "      <td>3262</td>\n",
       "      <td>1865</td>\n",
       "      <td>3519</td>\n",
       "      <td>2944</td>\n",
       "      <td>2627</td>\n",
       "      <td>2115</td>\n",
       "      <td>2328</td>\n",
       "    </tr>\n",
       "  </tbody>\n",
       "</table>\n",
       "</div>"
      ],
      "text/plain": [
       "weekday   Friday  Monday  Saturday  Sunday  Thursday  Tuesday  Wednesday\n",
       "month                                                                   \n",
       "April       2365    1833      2508    2052      2823     1880       2521\n",
       "February    2655    1970      2550    2183      2396     2129       2013\n",
       "January     2508    1353      2745    1651      2378     1444       1740\n",
       "June        2793    2848      3037    2485      2767     3187       2503\n",
       "March       2465    2115      2522    2379      2093     2388       2007\n",
       "May         3262    1865      3519    2944      2627     2115       2328"
      ]
     },
     "execution_count": 39,
     "metadata": {},
     "output_type": "execute_result"
    }
   ],
   "source": [
    "table = pd.crosstab(index=uber_15['month'], columns=uber_15['weekday'])\n",
    "table"
   ]
  },
  {
   "cell_type": "code",
   "execution_count": 43,
   "metadata": {},
   "outputs": [
    {
     "data": {
      "text/plain": [
       "<Axes: xlabel='month'>"
      ]
     },
     "execution_count": 43,
     "metadata": {},
     "output_type": "execute_result"
    },
    {
     "data": {
      "image/png": "[encoded data removed]",
      "text/plain": [
       "<Figure size 800x600 with 1 Axes>"
      ]
     },
     "metadata": {},
     "output_type": "display_data"
    }
   ],
   "source": [
    "table.plot(kind='bar', figsize=[8,6])"
   ]
  },
  {
   "cell_type": "code",
   "execution_count": 44,
   "metadata": {},
   "outputs": [],
   "source": [
    "# HOURLY RUSH IN NEWYORK ON DIFFERENT DAYS"
   ]
  },
  {
   "cell_type": "code",
   "execution_count": 46,
   "metadata": {},
   "outputs": [
    {
     "data": {
      "text/html": [
       "<div>\n",
       "<style scoped>\n",
       "    .dataframe tbody tr th:only-of-type {\n",
       "        vertical-align: middle;\n",
       "    }\n",
       "\n",
       "    .dataframe tbody tr th {\n",
       "        vertical-align: top;\n",
       "    }\n",
       "\n",
       "    .dataframe thead th {\n",
       "        text-align: right;\n",
       "    }\n",
       "</style>\n",
       "<table border=\"1\" class=\"dataframe\">\n",
       "  <thead>\n",
       "    <tr style=\"text-align: right;\">\n",
       "      <th></th>\n",
       "      <th>weekday</th>\n",
       "      <th>hour</th>\n",
       "      <th>size</th>\n",
       "    </tr>\n",
       "  </thead>\n",
       "  <tbody>\n",
       "    <tr>\n",
       "      <th>0</th>\n",
       "      <td>Friday</td>\n",
       "      <td>0</td>\n",
       "      <td>581</td>\n",
       "    </tr>\n",
       "    <tr>\n",
       "      <th>1</th>\n",
       "      <td>Friday</td>\n",
       "      <td>1</td>\n",
       "      <td>333</td>\n",
       "    </tr>\n",
       "    <tr>\n",
       "      <th>2</th>\n",
       "      <td>Friday</td>\n",
       "      <td>2</td>\n",
       "      <td>197</td>\n",
       "    </tr>\n",
       "    <tr>\n",
       "      <th>3</th>\n",
       "      <td>Friday</td>\n",
       "      <td>3</td>\n",
       "      <td>138</td>\n",
       "    </tr>\n",
       "    <tr>\n",
       "      <th>4</th>\n",
       "      <td>Friday</td>\n",
       "      <td>4</td>\n",
       "      <td>161</td>\n",
       "    </tr>\n",
       "    <tr>\n",
       "      <th>...</th>\n",
       "      <td>...</td>\n",
       "      <td>...</td>\n",
       "      <td>...</td>\n",
       "    </tr>\n",
       "    <tr>\n",
       "      <th>163</th>\n",
       "      <td>Wednesday</td>\n",
       "      <td>19</td>\n",
       "      <td>1044</td>\n",
       "    </tr>\n",
       "    <tr>\n",
       "      <th>164</th>\n",
       "      <td>Wednesday</td>\n",
       "      <td>20</td>\n",
       "      <td>897</td>\n",
       "    </tr>\n",
       "    <tr>\n",
       "      <th>165</th>\n",
       "      <td>Wednesday</td>\n",
       "      <td>21</td>\n",
       "      <td>949</td>\n",
       "    </tr>\n",
       "    <tr>\n",
       "      <th>166</th>\n",
       "      <td>Wednesday</td>\n",
       "      <td>22</td>\n",
       "      <td>900</td>\n",
       "    </tr>\n",
       "    <tr>\n",
       "      <th>167</th>\n",
       "      <td>Wednesday</td>\n",
       "      <td>23</td>\n",
       "      <td>669</td>\n",
       "    </tr>\n",
       "  </tbody>\n",
       "</table>\n",
       "<p>168 rows × 3 columns</p>\n",
       "</div>"
      ],
      "text/plain": [
       "       weekday  hour  size\n",
       "0       Friday     0   581\n",
       "1       Friday     1   333\n",
       "2       Friday     2   197\n",
       "3       Friday     3   138\n",
       "4       Friday     4   161\n",
       "..         ...   ...   ...\n",
       "163  Wednesday    19  1044\n",
       "164  Wednesday    20   897\n",
       "165  Wednesday    21   949\n",
       "166  Wednesday    22   900\n",
       "167  Wednesday    23   669\n",
       "\n",
       "[168 rows x 3 columns]"
      ]
     },
     "execution_count": 46,
     "metadata": {},
     "output_type": "execute_result"
    }
   ],
   "source": [
    "table_2 = uber_15.groupby(['weekday', 'hour'], as_index= False).size()\n",
    "table_2"
   ]
  },
  {
   "cell_type": "code",
   "execution_count": 48,
   "metadata": {},
   "outputs": [
    {
     "data": {
      "text/plain": [
       "<Axes: xlabel='hour', ylabel='size'>"
      ]
     },
     "execution_count": 48,
     "metadata": {},
     "output_type": "execute_result"
    },
    {
     "data": {
      "image/png": "[encoded data removed]",
      "text/plain": [
       "<Figure size 800x600 with 1 Axes>"
      ]
     },
     "metadata": {},
     "output_type": "display_data"
    }
   ],
   "source": [
    "plt.figure(figsize=(8,6))\n",
    "sns.pointplot(x='hour',y= 'size', hue='weekday',data= table_2)"
   ]
  },
  {
   "cell_type": "code",
   "execution_count": 49,
   "metadata": {},
   "outputs": [],
   "source": [
    "# WHICH  BASE_NUMBER HAS MOST NUMBER OF ACTIVE VEHICLE ???\n"
   ]
  },
  {
   "cell_type": "code",
   "execution_count": 6,
   "metadata": {},
   "outputs": [
    {
     "data": {
      "text/html": [
       "<div>\n",
       "<style scoped>\n",
       "    .dataframe tbody tr th:only-of-type {\n",
       "        vertical-align: middle;\n",
       "    }\n",
       "\n",
       "    .dataframe tbody tr th {\n",
       "        vertical-align: top;\n",
       "    }\n",
       "\n",
       "    .dataframe thead th {\n",
       "        text-align: right;\n",
       "    }\n",
       "</style>\n",
       "<table border=\"1\" class=\"dataframe\">\n",
       "  <thead>\n",
       "    <tr style=\"text-align: right;\">\n",
       "      <th></th>\n",
       "      <th>dispatching_base_number</th>\n",
       "      <th>date</th>\n",
       "      <th>active_vehicles</th>\n",
       "      <th>trips</th>\n",
       "    </tr>\n",
       "  </thead>\n",
       "  <tbody>\n",
       "    <tr>\n",
       "      <th>0</th>\n",
       "      <td>B02512</td>\n",
       "      <td>1/1/2015</td>\n",
       "      <td>190</td>\n",
       "      <td>1132</td>\n",
       "    </tr>\n",
       "    <tr>\n",
       "      <th>1</th>\n",
       "      <td>B02765</td>\n",
       "      <td>1/1/2015</td>\n",
       "      <td>225</td>\n",
       "      <td>1765</td>\n",
       "    </tr>\n",
       "    <tr>\n",
       "      <th>2</th>\n",
       "      <td>B02764</td>\n",
       "      <td>1/1/2015</td>\n",
       "      <td>3427</td>\n",
       "      <td>29421</td>\n",
       "    </tr>\n",
       "    <tr>\n",
       "      <th>3</th>\n",
       "      <td>B02682</td>\n",
       "      <td>1/1/2015</td>\n",
       "      <td>945</td>\n",
       "      <td>7679</td>\n",
       "    </tr>\n",
       "    <tr>\n",
       "      <th>4</th>\n",
       "      <td>B02617</td>\n",
       "      <td>1/1/2015</td>\n",
       "      <td>1228</td>\n",
       "      <td>9537</td>\n",
       "    </tr>\n",
       "    <tr>\n",
       "      <th>...</th>\n",
       "      <td>...</td>\n",
       "      <td>...</td>\n",
       "      <td>...</td>\n",
       "      <td>...</td>\n",
       "    </tr>\n",
       "    <tr>\n",
       "      <th>349</th>\n",
       "      <td>B02764</td>\n",
       "      <td>2/28/2015</td>\n",
       "      <td>3952</td>\n",
       "      <td>39812</td>\n",
       "    </tr>\n",
       "    <tr>\n",
       "      <th>350</th>\n",
       "      <td>B02617</td>\n",
       "      <td>2/28/2015</td>\n",
       "      <td>1372</td>\n",
       "      <td>14022</td>\n",
       "    </tr>\n",
       "    <tr>\n",
       "      <th>351</th>\n",
       "      <td>B02682</td>\n",
       "      <td>2/28/2015</td>\n",
       "      <td>1386</td>\n",
       "      <td>14472</td>\n",
       "    </tr>\n",
       "    <tr>\n",
       "      <th>352</th>\n",
       "      <td>B02512</td>\n",
       "      <td>2/28/2015</td>\n",
       "      <td>230</td>\n",
       "      <td>1803</td>\n",
       "    </tr>\n",
       "    <tr>\n",
       "      <th>353</th>\n",
       "      <td>B02765</td>\n",
       "      <td>2/28/2015</td>\n",
       "      <td>747</td>\n",
       "      <td>7753</td>\n",
       "    </tr>\n",
       "  </tbody>\n",
       "</table>\n",
       "<p>354 rows × 4 columns</p>\n",
       "</div>"
      ],
      "text/plain": [
       "    dispatching_base_number       date  active_vehicles  trips\n",
       "0                    B02512   1/1/2015              190   1132\n",
       "1                    B02765   1/1/2015              225   1765\n",
       "2                    B02764   1/1/2015             3427  29421\n",
       "3                    B02682   1/1/2015              945   7679\n",
       "4                    B02617   1/1/2015             1228   9537\n",
       "..                      ...        ...              ...    ...\n",
       "349                  B02764  2/28/2015             3952  39812\n",
       "350                  B02617  2/28/2015             1372  14022\n",
       "351                  B02682  2/28/2015             1386  14472\n",
       "352                  B02512  2/28/2015              230   1803\n",
       "353                  B02765  2/28/2015              747   7753\n",
       "\n",
       "[354 rows x 4 columns]"
      ]
     },
     "execution_count": 6,
     "metadata": {},
     "output_type": "execute_result"
    }
   ],
   "source": [
    "import pandas as pd\n",
    "uber_foil = pd.read_csv(r\"C:\\Users\\suraj\\Downloads\\Uber\\Datasets/Uber-Jan-Feb-FOIL.csv\")\n",
    "uber_foil"
   ]
  },
  {
   "cell_type": "code",
   "execution_count": 8,
   "metadata": {},
   "outputs": [
    {
     "data": {
      "text/plain": [
       "(354, 4)"
      ]
     },
     "execution_count": 8,
     "metadata": {},
     "output_type": "execute_result"
    }
   ],
   "source": [
    "uber_foil.shape"
   ]
  },
  {
   "cell_type": "code",
   "execution_count": 11,
   "metadata": {},
   "outputs": [
    {
     "name": "stdout",
     "output_type": "stream",
     "text": [
      "Defaulting to user installation because normal site-packages is not writeable\n",
      "Requirement already satisfied: chart_studio in c:\\users\\suraj\\appdata\\roaming\\python\\python312\\site-packages (1.1.0)\n",
      "Requirement already satisfied: plotly in c:\\users\\suraj\\appdata\\roaming\\python\\python312\\site-packages (from chart_studio) (5.24.1)\n",
      "Requirement already satisfied: requests in c:\\users\\suraj\\appdata\\roaming\\python\\python312\\site-packages (from chart_studio) (2.32.3)\n",
      "Requirement already satisfied: retrying>=1.3.3 in c:\\users\\suraj\\appdata\\roaming\\python\\python312\\site-packages (from chart_studio) (1.3.4)\n",
      "Requirement already satisfied: six in c:\\users\\suraj\\appdata\\roaming\\python\\python312\\site-packages (from chart_studio) (1.16.0)\n",
      "Requirement already satisfied: tenacity>=6.2.0 in c:\\users\\suraj\\appdata\\roaming\\python\\python312\\site-packages (from plotly->chart_studio) (9.0.0)\n",
      "Requirement already satisfied: packaging in c:\\users\\suraj\\appdata\\roaming\\python\\python312\\site-packages (from plotly->chart_studio) (24.1)\n",
      "Requirement already satisfied: charset-normalizer<4,>=2 in c:\\users\\suraj\\appdata\\roaming\\python\\python312\\site-packages (from requests->chart_studio) (3.3.2)\n",
      "Requirement already satisfied: idna<4,>=2.5 in c:\\users\\suraj\\appdata\\roaming\\python\\python312\\site-packages (from requests->chart_studio) (3.10)\n",
      "Requirement already satisfied: urllib3<3,>=1.21.1 in c:\\users\\suraj\\appdata\\roaming\\python\\python312\\site-packages (from requests->chart_studio) (2.2.3)\n",
      "Requirement already satisfied: certifi>=2017.4.17 in c:\\users\\suraj\\appdata\\roaming\\python\\python312\\site-packages (from requests->chart_studio) (2024.8.30)\n"
     ]
    },
    {
     "name": "stderr",
     "output_type": "stream",
     "text": [
      "\n",
      "[notice] A new release of pip is available: 24.2 -> 24.3.1\n",
      "[notice] To update, run: python.exe -m pip install --upgrade pip\n"
     ]
    },
    {
     "name": "stdout",
     "output_type": "stream",
     "text": [
      "Defaulting to user installation because normal site-packages is not writeable\n",
      "Requirement already satisfied: plotly in c:\\users\\suraj\\appdata\\roaming\\python\\python312\\site-packages (5.24.1)\n",
      "Requirement already satisfied: tenacity>=6.2.0 in c:\\users\\suraj\\appdata\\roaming\\python\\python312\\site-packages (from plotly) (9.0.0)\n",
      "Requirement already satisfied: packaging in c:\\users\\suraj\\appdata\\roaming\\python\\python312\\site-packages (from plotly) (24.1)\n"
     ]
    },
    {
     "name": "stderr",
     "output_type": "stream",
     "text": [
      "\n",
      "[notice] A new release of pip is available: 24.2 -> 24.3.1\n",
      "[notice] To update, run: python.exe -m pip install --upgrade pip\n"
     ]
    }
   ],
   "source": [
    "! pip install chart_studio\n",
    "! pip install plotly"
   ]
  },
  {
   "cell_type": "code",
   "execution_count": 12,
   "metadata": {},
   "outputs": [],
   "source": [
    "import chart_studio.plotly as py\n",
    "import plotly.graph_objs as go\n",
    "import plotly.express as px\n",
    "\n",
    "from plotly.offline import download_plotlyjs, init_notebook_mode, plot, iplot"
   ]
  },
  {
   "cell_type": "code",
   "execution_count": 13,
   "metadata": {},
   "outputs": [
    {
     "data": {
      "text/html": [
       "        <script type=\"text/javascript\">\n",
       "        window.PlotlyConfig = {MathJaxConfig: 'local'};\n",
       "        if (window.MathJax && window.MathJax.Hub && window.MathJax.Hub.Config) {window.MathJax.Hub.Config({SVG: {font: \"STIX-Web\"}});}\n",
       "        if (typeof require !== 'undefined') {\n",
       "        require.undef(\"plotly\");\n",
       "        requirejs.config({\n",
       "            paths: {\n",
       "                'plotly': ['https://cdn.plot.ly/plotly-2.35.2.min']\n",
       "            }\n",
       "        });\n",
       "        require(['plotly'], function(Plotly) {\n",
       "            window._Plotly = Plotly;\n",
       "        });\n",
       "        }\n",
       "        </script>\n",
       "        "
      ]
     },
     "metadata": {},
     "output_type": "display_data"
    }
   ],
   "source": [
    "init_notebook_mode (connected= True)"
   ]
  },
  {
   "cell_type": "code",
   "execution_count": 14,
   "metadata": {},
   "outputs": [
    {
     "data": {
      "text/plain": [
       "Index(['dispatching_base_number', 'date', 'active_vehicles', 'trips'], dtype='object')"
      ]
     },
     "execution_count": 14,
     "metadata": {},
     "output_type": "execute_result"
    }
   ],
   "source": [
    "uber_foil.columns"
   ]
  },
  {
   "cell_type": "code",
   "execution_count": 15,
   "metadata": {},
   "outputs": [
    {
     "data": {
      "application/vnd.plotly.v1+json": {
       "config": {
        "plotlyServerURL": "https://plot.ly"
       },
       "data": [
        {
         "alignmentgroup": "True",
         "hovertemplate": "dispatching_base_number=%{x}<br>active_vehicles=%{y}<extra></extra>",
         "legendgroup": "",
         "marker": {
          "color": "#636efa"
         },
         "name": "",
         "notched": false,
         "offsetgroup": "",
         "orientation": "v",
         "showlegend": false,
         "type": "box",
         "x": [
          "B02512",
          "B02765",
          "B02764",
          "B02682",
          "B02617",
          "B02598",
          "B02598",
          "B02617",
          "B02512",
          "B02682",
          "B02765",
          "B02764",
          "B02765",
          "B02617",
          "B02598",
          "B02682",
          "B02512",
          "B02764",
          "B02512",
          "B02682",
          "B02598",
          "B02765",
          "B02617",
          "B02764",
          "B02512",
          "B02682",
          "B02617",
          "B02764",
          "B02598",
          "B02765",
          "B02764",
          "B02682",
          "B02617",
          "B02765",
          "B02512",
          "B02598",
          "B02617",
          "B02682",
          "B02764",
          "B02765",
          "B02512",
          "B02598",
          "B02765",
          "B02598",
          "B02512",
          "B02682",
          "B02764",
          "B02617",
          "B02617",
          "B02512",
          "B02764",
          "B02682",
          "B02598",
          "B02765",
          "B02682",
          "B02617",
          "B02598",
          "B02512",
          "B02764",
          "B02765",
          "B02765",
          "B02598",
          "B02682",
          "B02764",
          "B02617",
          "B02512",
          "B02764",
          "B02765",
          "B02512",
          "B02598",
          "B02682",
          "B02617",
          "B02765",
          "B02598",
          "B02617",
          "B02512",
          "B02764",
          "B02682",
          "B02764",
          "B02765",
          "B02598",
          "B02512",
          "B02617",
          "B02682",
          "B02512",
          "B02682",
          "B02617",
          "B02765",
          "B02764",
          "B02598",
          "B02617",
          "B02765",
          "B02764",
          "B02682",
          "B02512",
          "B02598",
          "B02598",
          "B02512",
          "B02682",
          "B02765",
          "B02617",
          "B02764",
          "B02512",
          "B02598",
          "B02765",
          "B02764",
          "B02682",
          "B02617",
          "B02682",
          "B02617",
          "B02765",
          "B02764",
          "B02512",
          "B02598",
          "B02598",
          "B02682",
          "B02512",
          "B02764",
          "B02765",
          "B02617",
          "B02764",
          "B02512",
          "B02682",
          "B02598",
          "B02765",
          "B02617",
          "B02617",
          "B02764",
          "B02512",
          "B02598",
          "B02682",
          "B02765",
          "B02598",
          "B02512",
          "B02765",
          "B02764",
          "B02617",
          "B02682",
          "B02598",
          "B02764",
          "B02512",
          "B02617",
          "B02682",
          "B02765",
          "B02512",
          "B02764",
          "B02765",
          "B02598",
          "B02682",
          "B02617",
          "B02617",
          "B02598",
          "B02765",
          "B02764",
          "B02682",
          "B02512",
          "B02682",
          "B02765",
          "B02617",
          "B02598",
          "B02512",
          "B02764",
          "B02764",
          "B02682",
          "B02765",
          "B02617",
          "B02598",
          "B02512",
          "B02617",
          "B02764",
          "B02682",
          "B02765",
          "B02512",
          "B02598",
          "B02512",
          "B02617",
          "B02682",
          "B02764",
          "B02765",
          "B02598",
          "B02765",
          "B02512",
          "B02617",
          "B02682",
          "B02764",
          "B02598",
          "B02598",
          "B02682",
          "B02512",
          "B02765",
          "B02617",
          "B02764",
          "B02617",
          "B02682",
          "B02765",
          "B02598",
          "B02764",
          "B02512",
          "B02765",
          "B02598",
          "B02512",
          "B02764",
          "B02617",
          "B02682",
          "B02764",
          "B02765",
          "B02512",
          "B02682",
          "B02617",
          "B02598",
          "B02617",
          "B02682",
          "B02598",
          "B02512",
          "B02765",
          "B02764",
          "B02617",
          "B02765",
          "B02598",
          "B02512",
          "B02764",
          "B02682",
          "B02598",
          "B02512",
          "B02617",
          "B02682",
          "B02764",
          "B02765",
          "B02764",
          "B02765",
          "B02598",
          "B02617",
          "B02682",
          "B02512",
          "B02617",
          "B02682",
          "B02598",
          "B02764",
          "B02512",
          "B02765",
          "B02764",
          "B02512",
          "B02617",
          "B02765",
          "B02682",
          "B02598",
          "B02617",
          "B02764",
          "B02512",
          "B02598",
          "B02765",
          "B02682",
          "B02617",
          "B02512",
          "B02682",
          "B02765",
          "B02598",
          "B02764",
          "B02617",
          "B02682",
          "B02764",
          "B02765",
          "B02512",
          "B02598",
          "B02764",
          "B02512",
          "B02598",
          "B02765",
          "B02617",
          "B02682",
          "B02682",
          "B02764",
          "B02617",
          "B02765",
          "B02512",
          "B02598",
          "B02598",
          "B02512",
          "B02617",
          "B02764",
          "B02682",
          "B02765",
          "B02764",
          "B02512",
          "B02682",
          "B02617",
          "B02598",
          "B02765",
          "B02598",
          "B02682",
          "B02617",
          "B02765",
          "B02764",
          "B02512",
          "B02598",
          "B02512",
          "B02682",
          "B02764",
          "B02765",
          "B02617",
          "B02764",
          "B02617",
          "B02598",
          "B02682",
          "B02765",
          "B02512",
          "B02598",
          "B02682",
          "B02765",
          "B02617",
          "B02512",
          "B02764",
          "B02512",
          "B02617",
          "B02682",
          "B02764",
          "B02598",
          "B02765",
          "B02598",
          "B02617",
          "B02764",
          "B02682",
          "B02765",
          "B02512",
          "B02764",
          "B02512",
          "B02598",
          "B02682",
          "B02617",
          "B02765",
          "B02512",
          "B02598",
          "B02765",
          "B02682",
          "B02617",
          "B02764",
          "B02598",
          "B02617",
          "B02682",
          "B02512",
          "B02765",
          "B02764",
          "B02765",
          "B02617",
          "B02598",
          "B02512",
          "B02764",
          "B02682",
          "B02598",
          "B02764",
          "B02617",
          "B02682",
          "B02512",
          "B02765"
         ],
         "x0": " ",
         "xaxis": "x",
         "y": [
          190,
          225,
          3427,
          945,
          1228,
          870,
          785,
          1137,
          175,
          890,
          196,
          3147,
          201,
          1188,
          818,
          915,
          173,
          3215,
          147,
          812,
          746,
          183,
          1088,
          2862,
          194,
          951,
          1218,
          3387,
          907,
          227,
          3473,
          1022,
          1336,
          234,
          218,
          933,
          1363,
          1039,
          3603,
          248,
          217,
          974,
          262,
          1070,
          238,
          1135,
          3831,
          1463,
          1455,
          224,
          3820,
          1140,
          1070,
          280,
          1057,
          1331,
          949,
          206,
          3558,
          245,
          220,
          832,
          943,
          3186,
          1228,
          162,
          3499,
          279,
          217,
          964,
          1082,
          1323,
          258,
          975,
          1342,
          234,
          3658,
          1092,
          3736,
          271,
          1030,
          233,
          1405,
          1174,
          237,
          1208,
          1457,
          270,
          3840,
          1068,
          1445,
          290,
          3975,
          1250,
          234,
          1079,
          974,
          201,
          1137,
          252,
          1306,
          3657,
          177,
          869,
          248,
          3290,
          1056,
          1223,
          883,
          992,
          238,
          2958,
          168,
          706,
          944,
          1151,
          221,
          3654,
          272,
          1350,
          3718,
          242,
          1228,
          1035,
          296,
          1429,
          1471,
          3889,
          246,
          1071,
          1295,
          295,
          1093,
          246,
          299,
          4040,
          1482,
          1330,
          945,
          3652,
          211,
          1367,
          1223,
          245,
          183,
          3300,
          226,
          829,
          1046,
          1203,
          1150,
          860,
          230,
          3012,
          1084,
          197,
          600,
          135,
          596,
          434,
          112,
          1619,
          3692,
          1235,
          286,
          1356,
          1011,
          235,
          1474,
          3959,
          1316,
          295,
          250,
          1082,
          256,
          1501,
          1384,
          4124,
          322,
          1106,
          309,
          225,
          1394,
          1321,
          3947,
          1027,
          961,
          1214,
          193,
          289,
          1355,
          3740,
          1217,
          1152,
          275,
          939,
          3270,
          227,
          299,
          991,
          257,
          3674,
          1350,
          1269,
          3856,
          309,
          244,
          1311,
          1393,
          1072,
          1524,
          1418,
          1179,
          264,
          355,
          4093,
          1526,
          385,
          1181,
          261,
          4170,
          1414,
          1031,
          211,
          1383,
          1300,
          3849,
          345,
          3422,
          313,
          923,
          1256,
          1136,
          176,
          1312,
          1241,
          976,
          3543,
          228,
          388,
          3700,
          233,
          1364,
          422,
          1281,
          1029,
          1450,
          3849,
          255,
          1115,
          450,
          1396,
          1532,
          269,
          1468,
          536,
          1181,
          4137,
          1590,
          1523,
          4395,
          599,
          281,
          1216,
          4129,
          236,
          1111,
          583,
          1486,
          1428,
          1261,
          3651,
          1293,
          521,
          210,
          1003,
          934,
          207,
          1214,
          3524,
          1164,
          508,
          3826,
          241,
          1314,
          1378,
          1066,
          578,
          1078,
          1314,
          1394,
          586,
          3842,
          228,
          1127,
          250,
          1428,
          4110,
          663,
          1452,
          4384,
          1574,
          1186,
          1497,
          736,
          272,
          1044,
          1374,
          685,
          1443,
          238,
          3981,
          199,
          1248,
          1220,
          3478,
          909,
          566,
          966,
          1332,
          3734,
          1262,
          665,
          238,
          3965,
          247,
          1061,
          1346,
          1456,
          698,
          246,
          1076,
          706,
          1395,
          1473,
          3934,
          1134,
          1539,
          1465,
          243,
          745,
          4101,
          786,
          1551,
          1114,
          272,
          4253,
          1510,
          994,
          3952,
          1372,
          1386,
          230,
          747
         ],
         "y0": " ",
         "yaxis": "y"
        }
       ],
       "layout": {
        "boxmode": "group",
        "legend": {
         "tracegroupgap": 0
        },
        "margin": {
         "t": 60
        },
        "template": {
         "data": {
          "bar": [
           {
            "error_x": {
             "color": "#2a3f5f"
            },
            "error_y": {
             "color": "#2a3f5f"
            },
            "marker": {
             "line": {
              "color": "#E5ECF6",
              "width": 0.5
             },
             "pattern": {
              "fillmode": "overlay",
              "size": 10,
              "solidity": 0.2
             }
            },
            "type": "bar"
           }
          ],
          "barpolar": [
           {
            "marker": {
             "line": {
              "color": "#E5ECF6",
              "width": 0.5
             },
             "pattern": {
              "fillmode": "overlay",
              "size": 10,
              "solidity": 0.2
             }
            },
            "type": "barpolar"
           }
          ],
          "carpet": [
           {
            "aaxis": {
             "endlinecolor": "#2a3f5f",
             "gridcolor": "white",
             "linecolor": "white",
             "minorgridcolor": "white",
             "startlinecolor": "#2a3f5f"
            },
            "baxis": {
             "endlinecolor": "#2a3f5f",
             "gridcolor": "white",
             "linecolor": "white",
             "minorgridcolor": "white",
             "startlinecolor": "#2a3f5f"
            },
            "type": "carpet"
           }
          ],
          "choropleth": [
           {
            "colorbar": {
             "outlinewidth": 0,
             "ticks": ""
            },
            "type": "choropleth"
           }
          ],
          "contour": [
           {
            "colorbar": {
             "outlinewidth": 0,
             "ticks": ""
            },
            "colorscale": [
             [
              0,
              "#0d0887"
             ],
             [
              0.1111111111111111,
              "#46039f"
             ],
             [
              0.2222222222222222,
              "#7201a8"
             ],
             [
              0.3333333333333333,
              "#9c179e"
             ],
             [
              0.4444444444444444,
              "#bd3786"
             ],
             [
              0.5555555555555556,
              "#d8576b"
             ],
             [
              0.6666666666666666,
              "#ed7953"
             ],
             [
              0.7777777777777778,
              "#fb9f3a"
             ],
             [
              0.8888888888888888,
              "#fdca26"
             ],
             [
              1,
              "#f0f921"
             ]
            ],
            "type": "contour"
           }
          ],
          "contourcarpet": [
           {
            "colorbar": {
             "outlinewidth": 0,
             "ticks": ""
            },
            "type": "contourcarpet"
           }
          ],
          "heatmap": [
           {
            "colorbar": {
             "outlinewidth": 0,
             "ticks": ""
            },
            "colorscale": [
             [
              0,
              "#0d0887"
             ],
             [
              0.1111111111111111,
              "#46039f"
             ],
             [
              0.2222222222222222,
              "#7201a8"
             ],
             [
              0.3333333333333333,
              "#9c179e"
             ],
             [
              0.4444444444444444,
              "#bd3786"
             ],
             [
              0.5555555555555556,
              "#d8576b"
             ],
             [
              0.6666666666666666,
              "#ed7953"
             ],
             [
              0.7777777777777778,
              "#fb9f3a"
             ],
             [
              0.8888888888888888,
              "#fdca26"
             ],
             [
              1,
              "#f0f921"
             ]
            ],
            "type": "heatmap"
           }
          ],
          "heatmapgl": [
           {
            "colorbar": {
             "outlinewidth": 0,
             "ticks": ""
            },
            "colorscale": [
             [
              0,
              "#0d0887"
             ],
             [
              0.1111111111111111,
              "#46039f"
             ],
             [
              0.2222222222222222,
              "#7201a8"
             ],
             [
              0.3333333333333333,
              "#9c179e"
             ],
             [
              0.4444444444444444,
              "#bd3786"
             ],
             [
              0.5555555555555556,
              "#d8576b"
             ],
             [
              0.6666666666666666,
              "#ed7953"
             ],
             [
              0.7777777777777778,
              "#fb9f3a"
             ],
             [
              0.8888888888888888,
              "#fdca26"
             ],
             [
              1,
              "#f0f921"
             ]
            ],
            "type": "heatmapgl"
           }
          ],
          "histogram": [
           {
            "marker": {
             "pattern": {
              "fillmode": "overlay",
              "size": 10,
              "solidity": 0.2
             }
            },
            "type": "histogram"
           }
          ],
          "histogram2d": [
           {
            "colorbar": {
             "outlinewidth": 0,
             "ticks": ""
            },
            "colorscale": [
             [
              0,
              "#0d0887"
             ],
             [
              0.1111111111111111,
              "#46039f"
             ],
             [
              0.2222222222222222,
              "#7201a8"
             ],
             [
              0.3333333333333333,
              "#9c179e"
             ],
             [
              0.4444444444444444,
              "#bd3786"
             ],
             [
              0.5555555555555556,
              "#d8576b"
             ],
             [
              0.6666666666666666,
              "#ed7953"
             ],
             [
              0.7777777777777778,
              "#fb9f3a"
             ],
             [
              0.8888888888888888,
              "#fdca26"
             ],
             [
              1,
              "#f0f921"
             ]
            ],
            "type": "histogram2d"
           }
          ],
          "histogram2dcontour": [
           {
            "colorbar": {
             "outlinewidth": 0,
             "ticks": ""
            },
            "colorscale": [
             [
              0,
              "#0d0887"
             ],
             [
              0.1111111111111111,
              "#46039f"
             ],
             [
              0.2222222222222222,
              "#7201a8"
             ],
             [
              0.3333333333333333,
              "#9c179e"
             ],
             [
              0.4444444444444444,
              "#bd3786"
             ],
             [
              0.5555555555555556,
              "#d8576b"
             ],
             [
              0.6666666666666666,
              "#ed7953"
             ],
             [
              0.7777777777777778,
              "#fb9f3a"
             ],
             [
              0.8888888888888888,
              "#fdca26"
             ],
             [
              1,
              "#f0f921"
             ]
            ],
            "type": "histogram2dcontour"
           }
          ],
          "mesh3d": [
           {
            "colorbar": {
             "outlinewidth": 0,
             "ticks": ""
            },
            "type": "mesh3d"
           }
          ],
          "parcoords": [
           {
            "line": {
             "colorbar": {
              "outlinewidth": 0,
              "ticks": ""
             }
            },
            "type": "parcoords"
           }
          ],
          "pie": [
           {
            "automargin": true,
            "type": "pie"
           }
          ],
          "scatter": [
           {
            "fillpattern": {
             "fillmode": "overlay",
             "size": 10,
             "solidity": 0.2
            },
            "type": "scatter"
           }
          ],
          "scatter3d": [
           {
            "line": {
             "colorbar": {
              "outlinewidth": 0,
              "ticks": ""
             }
            },
            "marker": {
             "colorbar": {
              "outlinewidth": 0,
              "ticks": ""
             }
            },
            "type": "scatter3d"
           }
          ],
          "scattercarpet": [
           {
            "marker": {
             "colorbar": {
              "outlinewidth": 0,
              "ticks": ""
             }
            },
            "type": "scattercarpet"
           }
          ],
          "scattergeo": [
           {
            "marker": {
             "colorbar": {
              "outlinewidth": 0,
              "ticks": ""
             }
            },
            "type": "scattergeo"
           }
          ],
          "scattergl": [
           {
            "marker": {
             "colorbar": {
              "outlinewidth": 0,
              "ticks": ""
             }
            },
            "type": "scattergl"
           }
          ],
          "scattermapbox": [
           {
            "marker": {
             "colorbar": {
              "outlinewidth": 0,
              "ticks": ""
             }
            },
            "type": "scattermapbox"
           }
          ],
          "scatterpolar": [
           {
            "marker": {
             "colorbar": {
              "outlinewidth": 0,
              "ticks": ""
             }
            },
            "type": "scatterpolar"
           }
          ],
          "scatterpolargl": [
           {
            "marker": {
             "colorbar": {
              "outlinewidth": 0,
              "ticks": ""
             }
            },
            "type": "scatterpolargl"
           }
          ],
          "scatterternary": [
           {
            "marker": {
             "colorbar": {
              "outlinewidth": 0,
              "ticks": ""
             }
            },
            "type": "scatterternary"
           }
          ],
          "surface": [
           {
            "colorbar": {
             "outlinewidth": 0,
             "ticks": ""
            },
            "colorscale": [
             [
              0,
              "#0d0887"
             ],
             [
              0.1111111111111111,
              "#46039f"
             ],
             [
              0.2222222222222222,
              "#7201a8"
             ],
             [
              0.3333333333333333,
              "#9c179e"
             ],
             [
              0.4444444444444444,
              "#bd3786"
             ],
             [
              0.5555555555555556,
              "#d8576b"
             ],
             [
              0.6666666666666666,
              "#ed7953"
             ],
             [
              0.7777777777777778,
              "#fb9f3a"
             ],
             [
              0.8888888888888888,
              "#fdca26"
             ],
             [
              1,
              "#f0f921"
             ]
            ],
            "type": "surface"
           }
          ],
          "table": [
           {
            "cells": {
             "fill": {
              "color": "#EBF0F8"
             },
             "line": {
              "color": "white"
             }
            },
            "header": {
             "fill": {
              "color": "#C8D4E3"
             },
             "line": {
              "color": "white"
             }
            },
            "type": "table"
           }
          ]
         },
         "layout": {
          "annotationdefaults": {
           "arrowcolor": "#2a3f5f",
           "arrowhead": 0,
           "arrowwidth": 1
          },
          "autotypenumbers": "strict",
          "coloraxis": {
           "colorbar": {
            "outlinewidth": 0,
            "ticks": ""
           }
          },
          "colorscale": {
           "diverging": [
            [
             0,
             "#8e0152"
            ],
            [
             0.1,
             "#c51b7d"
            ],
            [
             0.2,
             "#de77ae"
            ],
            [
             0.3,
             "#f1b6da"
            ],
            [
             0.4,
             "#fde0ef"
            ],
            [
             0.5,
             "#f7f7f7"
            ],
            [
             0.6,
             "#e6f5d0"
            ],
            [
             0.7,
             "#b8e186"
            ],
            [
             0.8,
             "#7fbc41"
            ],
            [
             0.9,
             "#4d9221"
            ],
            [
             1,
             "#276419"
            ]
           ],
           "sequential": [
            [
             0,
             "#0d0887"
            ],
            [
             0.1111111111111111,
             "#46039f"
            ],
            [
             0.2222222222222222,
             "#7201a8"
            ],
            [
             0.3333333333333333,
             "#9c179e"
            ],
            [
             0.4444444444444444,
             "#bd3786"
            ],
            [
             0.5555555555555556,
             "#d8576b"
            ],
            [
             0.6666666666666666,
             "#ed7953"
            ],
            [
             0.7777777777777778,
             "#fb9f3a"
            ],
            [
             0.8888888888888888,
             "#fdca26"
            ],
            [
             1,
             "#f0f921"
            ]
           ],
           "sequentialminus": [
            [
             0,
             "#0d0887"
            ],
            [
             0.1111111111111111,
             "#46039f"
            ],
            [
             0.2222222222222222,
             "#7201a8"
            ],
            [
             0.3333333333333333,
             "#9c179e"
            ],
            [
             0.4444444444444444,
             "#bd3786"
            ],
            [
             0.5555555555555556,
             "#d8576b"
            ],
            [
             0.6666666666666666,
             "#ed7953"
            ],
            [
             0.7777777777777778,
             "#fb9f3a"
            ],
            [
             0.8888888888888888,
             "#fdca26"
            ],
            [
             1,
             "#f0f921"
            ]
           ]
          },
          "colorway": [
           "#636efa",
           "#EF553B",
           "#00cc96",
           "#ab63fa",
           "#FFA15A",
           "#19d3f3",
           "#FF6692",
           "#B6E880",
           "#FF97FF",
           "#FECB52"
          ],
          "font": {
           "color": "#2a3f5f"
          },
          "geo": {
           "bgcolor": "white",
           "lakecolor": "white",
           "landcolor": "#E5ECF6",
           "showlakes": true,
           "showland": true,
           "subunitcolor": "white"
          },
          "hoverlabel": {
           "align": "left"
          },
          "hovermode": "closest",
          "mapbox": {
           "style": "light"
          },
          "paper_bgcolor": "white",
          "plot_bgcolor": "#E5ECF6",
          "polar": {
           "angularaxis": {
            "gridcolor": "white",
            "linecolor": "white",
            "ticks": ""
           },
           "bgcolor": "#E5ECF6",
           "radialaxis": {
            "gridcolor": "white",
            "linecolor": "white",
            "ticks": ""
           }
          },
          "scene": {
           "xaxis": {
            "backgroundcolor": "#E5ECF6",
            "gridcolor": "white",
            "gridwidth": 2,
            "linecolor": "white",
            "showbackground": true,
            "ticks": "",
            "zerolinecolor": "white"
           },
           "yaxis": {
            "backgroundcolor": "#E5ECF6",
            "gridcolor": "white",
            "gridwidth": 2,
            "linecolor": "white",
            "showbackground": true,
            "ticks": "",
            "zerolinecolor": "white"
           },
           "zaxis": {
            "backgroundcolor": "#E5ECF6",
            "gridcolor": "white",
            "gridwidth": 2,
            "linecolor": "white",
            "showbackground": true,
            "ticks": "",
            "zerolinecolor": "white"
           }
          },
          "shapedefaults": {
           "line": {
            "color": "#2a3f5f"
           }
          },
          "ternary": {
           "aaxis": {
            "gridcolor": "white",
            "linecolor": "white",
            "ticks": ""
           },
           "baxis": {
            "gridcolor": "white",
            "linecolor": "white",
            "ticks": ""
           },
           "bgcolor": "#E5ECF6",
           "caxis": {
            "gridcolor": "white",
            "linecolor": "white",
            "ticks": ""
           }
          },
          "title": {
           "x": 0.05
          },
          "xaxis": {
           "automargin": true,
           "gridcolor": "white",
           "linecolor": "white",
           "ticks": "",
           "title": {
            "standoff": 15
           },
           "zerolinecolor": "white",
           "zerolinewidth": 2
          },
          "yaxis": {
           "automargin": true,
           "gridcolor": "white",
           "linecolor": "white",
           "ticks": "",
           "title": {
            "standoff": 15
           },
           "zerolinecolor": "white",
           "zerolinewidth": 2
          }
         }
        },
        "xaxis": {
         "anchor": "y",
         "domain": [
          0,
          1
         ],
         "title": {
          "text": "dispatching_base_number"
         }
        },
        "yaxis": {
         "anchor": "x",
         "domain": [
          0,
          1
         ],
         "title": {
          "text": "active_vehicles"
         }
        }
       }
      },
      "text/html": [
       "<div>                            <div id=\"71923739-b892-457e-9964-78fa09263605\" class=\"plotly-graph-div\" style=\"height:525px; width:100%;\"></div>            <script type=\"text/javascript\">                require([\"plotly\"], function(Plotly) {                    window.PLOTLYENV=window.PLOTLYENV || {};                                    if (document.getElementById(\"71923739-b892-457e-9964-78fa09263605\")) {                    Plotly.newPlot(                        \"71923739-b892-457e-9964-78fa09263605\",                        [{\"alignmentgroup\":\"True\",\"hovertemplate\":\"dispatching_base_number=%{x}\\u003cbr\\u003eactive_vehicles=%{y}\\u003cextra\\u003e\\u003c\\u002fextra\\u003e\",\"legendgroup\":\"\",\"marker\":{\"color\":\"#636efa\"},\"name\":\"\",\"notched\":false,\"offsetgroup\":\"\",\"orientation\":\"v\",\"showlegend\":false,\"x\":[\"B02512\",\"B02765\",\"B02764\",\"B02682\",\"B02617\",\"B02598\",\"B02598\",\"B02617\",\"B02512\",\"B02682\",\"B02765\",\"B02764\",\"B02765\",\"B02617\",\"B02598\",\"B02682\",\"B02512\",\"B02764\",\"B02512\",\"B02682\",\"B02598\",\"B02765\",\"B02617\",\"B02764\",\"B02512\",\"B02682\",\"B02617\",\"B02764\",\"B02598\",\"B02765\",\"B02764\",\"B02682\",\"B02617\",\"B02765\",\"B02512\",\"B02598\",\"B02617\",\"B02682\",\"B02764\",\"B02765\",\"B02512\",\"B02598\",\"B02765\",\"B02598\",\"B02512\",\"B02682\",\"B02764\",\"B02617\",\"B02617\",\"B02512\",\"B02764\",\"B02682\",\"B02598\",\"B02765\",\"B02682\",\"B02617\",\"B02598\",\"B02512\",\"B02764\",\"B02765\",\"B02765\",\"B02598\",\"B02682\",\"B02764\",\"B02617\",\"B02512\",\"B02764\",\"B02765\",\"B02512\",\"B02598\",\"B02682\",\"B02617\",\"B02765\",\"B02598\",\"B02617\",\"B02512\",\"B02764\",\"B02682\",\"B02764\",\"B02765\",\"B02598\",\"B02512\",\"B02617\",\"B02682\",\"B02512\",\"B02682\",\"B02617\",\"B02765\",\"B02764\",\"B02598\",\"B02617\",\"B02765\",\"B02764\",\"B02682\",\"B02512\",\"B02598\",\"B02598\",\"B02512\",\"B02682\",\"B02765\",\"B02617\",\"B02764\",\"B02512\",\"B02598\",\"B02765\",\"B02764\",\"B02682\",\"B02617\",\"B02682\",\"B02617\",\"B02765\",\"B02764\",\"B02512\",\"B02598\",\"B02598\",\"B02682\",\"B02512\",\"B02764\",\"B02765\",\"B02617\",\"B02764\",\"B02512\",\"B02682\",\"B02598\",\"B02765\",\"B02617\",\"B02617\",\"B02764\",\"B02512\",\"B02598\",\"B02682\",\"B02765\",\"B02598\",\"B02512\",\"B02765\",\"B02764\",\"B02617\",\"B02682\",\"B02598\",\"B02764\",\"B02512\",\"B02617\",\"B02682\",\"B02765\",\"B02512\",\"B02764\",\"B02765\",\"B02598\",\"B02682\",\"B02617\",\"B02617\",\"B02598\",\"B02765\",\"B02764\",\"B02682\",\"B02512\",\"B02682\",\"B02765\",\"B02617\",\"B02598\",\"B02512\",\"B02764\",\"B02764\",\"B02682\",\"B02765\",\"B02617\",\"B02598\",\"B02512\",\"B02617\",\"B02764\",\"B02682\",\"B02765\",\"B02512\",\"B02598\",\"B02512\",\"B02617\",\"B02682\",\"B02764\",\"B02765\",\"B02598\",\"B02765\",\"B02512\",\"B02617\",\"B02682\",\"B02764\",\"B02598\",\"B02598\",\"B02682\",\"B02512\",\"B02765\",\"B02617\",\"B02764\",\"B02617\",\"B02682\",\"B02765\",\"B02598\",\"B02764\",\"B02512\",\"B02765\",\"B02598\",\"B02512\",\"B02764\",\"B02617\",\"B02682\",\"B02764\",\"B02765\",\"B02512\",\"B02682\",\"B02617\",\"B02598\",\"B02617\",\"B02682\",\"B02598\",\"B02512\",\"B02765\",\"B02764\",\"B02617\",\"B02765\",\"B02598\",\"B02512\",\"B02764\",\"B02682\",\"B02598\",\"B02512\",\"B02617\",\"B02682\",\"B02764\",\"B02765\",\"B02764\",\"B02765\",\"B02598\",\"B02617\",\"B02682\",\"B02512\",\"B02617\",\"B02682\",\"B02598\",\"B02764\",\"B02512\",\"B02765\",\"B02764\",\"B02512\",\"B02617\",\"B02765\",\"B02682\",\"B02598\",\"B02617\",\"B02764\",\"B02512\",\"B02598\",\"B02765\",\"B02682\",\"B02617\",\"B02512\",\"B02682\",\"B02765\",\"B02598\",\"B02764\",\"B02617\",\"B02682\",\"B02764\",\"B02765\",\"B02512\",\"B02598\",\"B02764\",\"B02512\",\"B02598\",\"B02765\",\"B02617\",\"B02682\",\"B02682\",\"B02764\",\"B02617\",\"B02765\",\"B02512\",\"B02598\",\"B02598\",\"B02512\",\"B02617\",\"B02764\",\"B02682\",\"B02765\",\"B02764\",\"B02512\",\"B02682\",\"B02617\",\"B02598\",\"B02765\",\"B02598\",\"B02682\",\"B02617\",\"B02765\",\"B02764\",\"B02512\",\"B02598\",\"B02512\",\"B02682\",\"B02764\",\"B02765\",\"B02617\",\"B02764\",\"B02617\",\"B02598\",\"B02682\",\"B02765\",\"B02512\",\"B02598\",\"B02682\",\"B02765\",\"B02617\",\"B02512\",\"B02764\",\"B02512\",\"B02617\",\"B02682\",\"B02764\",\"B02598\",\"B02765\",\"B02598\",\"B02617\",\"B02764\",\"B02682\",\"B02765\",\"B02512\",\"B02764\",\"B02512\",\"B02598\",\"B02682\",\"B02617\",\"B02765\",\"B02512\",\"B02598\",\"B02765\",\"B02682\",\"B02617\",\"B02764\",\"B02598\",\"B02617\",\"B02682\",\"B02512\",\"B02765\",\"B02764\",\"B02765\",\"B02617\",\"B02598\",\"B02512\",\"B02764\",\"B02682\",\"B02598\",\"B02764\",\"B02617\",\"B02682\",\"B02512\",\"B02765\"],\"x0\":\" \",\"xaxis\":\"x\",\"y\":[190,225,3427,945,1228,870,785,1137,175,890,196,3147,201,1188,818,915,173,3215,147,812,746,183,1088,2862,194,951,1218,3387,907,227,3473,1022,1336,234,218,933,1363,1039,3603,248,217,974,262,1070,238,1135,3831,1463,1455,224,3820,1140,1070,280,1057,1331,949,206,3558,245,220,832,943,3186,1228,162,3499,279,217,964,1082,1323,258,975,1342,234,3658,1092,3736,271,1030,233,1405,1174,237,1208,1457,270,3840,1068,1445,290,3975,1250,234,1079,974,201,1137,252,1306,3657,177,869,248,3290,1056,1223,883,992,238,2958,168,706,944,1151,221,3654,272,1350,3718,242,1228,1035,296,1429,1471,3889,246,1071,1295,295,1093,246,299,4040,1482,1330,945,3652,211,1367,1223,245,183,3300,226,829,1046,1203,1150,860,230,3012,1084,197,600,135,596,434,112,1619,3692,1235,286,1356,1011,235,1474,3959,1316,295,250,1082,256,1501,1384,4124,322,1106,309,225,1394,1321,3947,1027,961,1214,193,289,1355,3740,1217,1152,275,939,3270,227,299,991,257,3674,1350,1269,3856,309,244,1311,1393,1072,1524,1418,1179,264,355,4093,1526,385,1181,261,4170,1414,1031,211,1383,1300,3849,345,3422,313,923,1256,1136,176,1312,1241,976,3543,228,388,3700,233,1364,422,1281,1029,1450,3849,255,1115,450,1396,1532,269,1468,536,1181,4137,1590,1523,4395,599,281,1216,4129,236,1111,583,1486,1428,1261,3651,1293,521,210,1003,934,207,1214,3524,1164,508,3826,241,1314,1378,1066,578,1078,1314,1394,586,3842,228,1127,250,1428,4110,663,1452,4384,1574,1186,1497,736,272,1044,1374,685,1443,238,3981,199,1248,1220,3478,909,566,966,1332,3734,1262,665,238,3965,247,1061,1346,1456,698,246,1076,706,1395,1473,3934,1134,1539,1465,243,745,4101,786,1551,1114,272,4253,1510,994,3952,1372,1386,230,747],\"y0\":\" \",\"yaxis\":\"y\",\"type\":\"box\"}],                        {\"template\":{\"data\":{\"histogram2dcontour\":[{\"type\":\"histogram2dcontour\",\"colorbar\":{\"outlinewidth\":0,\"ticks\":\"\"},\"colorscale\":[[0.0,\"#0d0887\"],[0.1111111111111111,\"#46039f\"],[0.2222222222222222,\"#7201a8\"],[0.3333333333333333,\"#9c179e\"],[0.4444444444444444,\"#bd3786\"],[0.5555555555555556,\"#d8576b\"],[0.6666666666666666,\"#ed7953\"],[0.7777777777777778,\"#fb9f3a\"],[0.8888888888888888,\"#fdca26\"],[1.0,\"#f0f921\"]]}],\"choropleth\":[{\"type\":\"choropleth\",\"colorbar\":{\"outlinewidth\":0,\"ticks\":\"\"}}],\"histogram2d\":[{\"type\":\"histogram2d\",\"colorbar\":{\"outlinewidth\":0,\"ticks\":\"\"},\"colorscale\":[[0.0,\"#0d0887\"],[0.1111111111111111,\"#46039f\"],[0.2222222222222222,\"#7201a8\"],[0.3333333333333333,\"#9c179e\"],[0.4444444444444444,\"#bd3786\"],[0.5555555555555556,\"#d8576b\"],[0.6666666666666666,\"#ed7953\"],[0.7777777777777778,\"#fb9f3a\"],[0.8888888888888888,\"#fdca26\"],[1.0,\"#f0f921\"]]}],\"heatmap\":[{\"type\":\"heatmap\",\"colorbar\":{\"outlinewidth\":0,\"ticks\":\"\"},\"colorscale\":[[0.0,\"#0d0887\"],[0.1111111111111111,\"#46039f\"],[0.2222222222222222,\"#7201a8\"],[0.3333333333333333,\"#9c179e\"],[0.4444444444444444,\"#bd3786\"],[0.5555555555555556,\"#d8576b\"],[0.6666666666666666,\"#ed7953\"],[0.7777777777777778,\"#fb9f3a\"],[0.8888888888888888,\"#fdca26\"],[1.0,\"#f0f921\"]]}],\"heatmapgl\":[{\"type\":\"heatmapgl\",\"colorbar\":{\"outlinewidth\":0,\"ticks\":\"\"},\"colorscale\":[[0.0,\"#0d0887\"],[0.1111111111111111,\"#46039f\"],[0.2222222222222222,\"#7201a8\"],[0.3333333333333333,\"#9c179e\"],[0.4444444444444444,\"#bd3786\"],[0.5555555555555556,\"#d8576b\"],[0.6666666666666666,\"#ed7953\"],[0.7777777777777778,\"#fb9f3a\"],[0.8888888888888888,\"#fdca26\"],[1.0,\"#f0f921\"]]}],\"contourcarpet\":[{\"type\":\"contourcarpet\",\"colorbar\":{\"outlinewidth\":0,\"ticks\":\"\"}}],\"contour\":[{\"type\":\"contour\",\"colorbar\":{\"outlinewidth\":0,\"ticks\":\"\"},\"colorscale\":[[0.0,\"#0d0887\"],[0.1111111111111111,\"#46039f\"],[0.2222222222222222,\"#7201a8\"],[0.3333333333333333,\"#9c179e\"],[0.4444444444444444,\"#bd3786\"],[0.5555555555555556,\"#d8576b\"],[0.6666666666666666,\"#ed7953\"],[0.7777777777777778,\"#fb9f3a\"],[0.8888888888888888,\"#fdca26\"],[1.0,\"#f0f921\"]]}],\"surface\":[{\"type\":\"surface\",\"colorbar\":{\"outlinewidth\":0,\"ticks\":\"\"},\"colorscale\":[[0.0,\"#0d0887\"],[0.1111111111111111,\"#46039f\"],[0.2222222222222222,\"#7201a8\"],[0.3333333333333333,\"#9c179e\"],[0.4444444444444444,\"#bd3786\"],[0.5555555555555556,\"#d8576b\"],[0.6666666666666666,\"#ed7953\"],[0.7777777777777778,\"#fb9f3a\"],[0.8888888888888888,\"#fdca26\"],[1.0,\"#f0f921\"]]}],\"mesh3d\":[{\"type\":\"mesh3d\",\"colorbar\":{\"outlinewidth\":0,\"ticks\":\"\"}}],\"scatter\":[{\"fillpattern\":{\"fillmode\":\"overlay\",\"size\":10,\"solidity\":0.2},\"type\":\"scatter\"}],\"parcoords\":[{\"type\":\"parcoords\",\"line\":{\"colorbar\":{\"outlinewidth\":0,\"ticks\":\"\"}}}],\"scatterpolargl\":[{\"type\":\"scatterpolargl\",\"marker\":{\"colorbar\":{\"outlinewidth\":0,\"ticks\":\"\"}}}],\"bar\":[{\"error_x\":{\"color\":\"#2a3f5f\"},\"error_y\":{\"color\":\"#2a3f5f\"},\"marker\":{\"line\":{\"color\":\"#E5ECF6\",\"width\":0.5},\"pattern\":{\"fillmode\":\"overlay\",\"size\":10,\"solidity\":0.2}},\"type\":\"bar\"}],\"scattergeo\":[{\"type\":\"scattergeo\",\"marker\":{\"colorbar\":{\"outlinewidth\":0,\"ticks\":\"\"}}}],\"scatterpolar\":[{\"type\":\"scatterpolar\",\"marker\":{\"colorbar\":{\"outlinewidth\":0,\"ticks\":\"\"}}}],\"histogram\":[{\"marker\":{\"pattern\":{\"fillmode\":\"overlay\",\"size\":10,\"solidity\":0.2}},\"type\":\"histogram\"}],\"scattergl\":[{\"type\":\"scattergl\",\"marker\":{\"colorbar\":{\"outlinewidth\":0,\"ticks\":\"\"}}}],\"scatter3d\":[{\"type\":\"scatter3d\",\"line\":{\"colorbar\":{\"outlinewidth\":0,\"ticks\":\"\"}},\"marker\":{\"colorbar\":{\"outlinewidth\":0,\"ticks\":\"\"}}}],\"scattermapbox\":[{\"type\":\"scattermapbox\",\"marker\":{\"colorbar\":{\"outlinewidth\":0,\"ticks\":\"\"}}}],\"scatterternary\":[{\"type\":\"scatterternary\",\"marker\":{\"colorbar\":{\"outlinewidth\":0,\"ticks\":\"\"}}}],\"scattercarpet\":[{\"type\":\"scattercarpet\",\"marker\":{\"colorbar\":{\"outlinewidth\":0,\"ticks\":\"\"}}}],\"carpet\":[{\"aaxis\":{\"endlinecolor\":\"#2a3f5f\",\"gridcolor\":\"white\",\"linecolor\":\"white\",\"minorgridcolor\":\"white\",\"startlinecolor\":\"#2a3f5f\"},\"baxis\":{\"endlinecolor\":\"#2a3f5f\",\"gridcolor\":\"white\",\"linecolor\":\"white\",\"minorgridcolor\":\"white\",\"startlinecolor\":\"#2a3f5f\"},\"type\":\"carpet\"}],\"table\":[{\"cells\":{\"fill\":{\"color\":\"#EBF0F8\"},\"line\":{\"color\":\"white\"}},\"header\":{\"fill\":{\"color\":\"#C8D4E3\"},\"line\":{\"color\":\"white\"}},\"type\":\"table\"}],\"barpolar\":[{\"marker\":{\"line\":{\"color\":\"#E5ECF6\",\"width\":0.5},\"pattern\":{\"fillmode\":\"overlay\",\"size\":10,\"solidity\":0.2}},\"type\":\"barpolar\"}],\"pie\":[{\"automargin\":true,\"type\":\"pie\"}]},\"layout\":{\"autotypenumbers\":\"strict\",\"colorway\":[\"#636efa\",\"#EF553B\",\"#00cc96\",\"#ab63fa\",\"#FFA15A\",\"#19d3f3\",\"#FF6692\",\"#B6E880\",\"#FF97FF\",\"#FECB52\"],\"font\":{\"color\":\"#2a3f5f\"},\"hovermode\":\"closest\",\"hoverlabel\":{\"align\":\"left\"},\"paper_bgcolor\":\"white\",\"plot_bgcolor\":\"#E5ECF6\",\"polar\":{\"bgcolor\":\"#E5ECF6\",\"angularaxis\":{\"gridcolor\":\"white\",\"linecolor\":\"white\",\"ticks\":\"\"},\"radialaxis\":{\"gridcolor\":\"white\",\"linecolor\":\"white\",\"ticks\":\"\"}},\"ternary\":{\"bgcolor\":\"#E5ECF6\",\"aaxis\":{\"gridcolor\":\"white\",\"linecolor\":\"white\",\"ticks\":\"\"},\"baxis\":{\"gridcolor\":\"white\",\"linecolor\":\"white\",\"ticks\":\"\"},\"caxis\":{\"gridcolor\":\"white\",\"linecolor\":\"white\",\"ticks\":\"\"}},\"coloraxis\":{\"colorbar\":{\"outlinewidth\":0,\"ticks\":\"\"}},\"colorscale\":{\"sequential\":[[0.0,\"#0d0887\"],[0.1111111111111111,\"#46039f\"],[0.2222222222222222,\"#7201a8\"],[0.3333333333333333,\"#9c179e\"],[0.4444444444444444,\"#bd3786\"],[0.5555555555555556,\"#d8576b\"],[0.6666666666666666,\"#ed7953\"],[0.7777777777777778,\"#fb9f3a\"],[0.8888888888888888,\"#fdca26\"],[1.0,\"#f0f921\"]],\"sequentialminus\":[[0.0,\"#0d0887\"],[0.1111111111111111,\"#46039f\"],[0.2222222222222222,\"#7201a8\"],[0.3333333333333333,\"#9c179e\"],[0.4444444444444444,\"#bd3786\"],[0.5555555555555556,\"#d8576b\"],[0.6666666666666666,\"#ed7953\"],[0.7777777777777778,\"#fb9f3a\"],[0.8888888888888888,\"#fdca26\"],[1.0,\"#f0f921\"]],\"diverging\":[[0,\"#8e0152\"],[0.1,\"#c51b7d\"],[0.2,\"#de77ae\"],[0.3,\"#f1b6da\"],[0.4,\"#fde0ef\"],[0.5,\"#f7f7f7\"],[0.6,\"#e6f5d0\"],[0.7,\"#b8e186\"],[0.8,\"#7fbc41\"],[0.9,\"#4d9221\"],[1,\"#276419\"]]},\"xaxis\":{\"gridcolor\":\"white\",\"linecolor\":\"white\",\"ticks\":\"\",\"title\":{\"standoff\":15},\"zerolinecolor\":\"white\",\"automargin\":true,\"zerolinewidth\":2},\"yaxis\":{\"gridcolor\":\"white\",\"linecolor\":\"white\",\"ticks\":\"\",\"title\":{\"standoff\":15},\"zerolinecolor\":\"white\",\"automargin\":true,\"zerolinewidth\":2},\"scene\":{\"xaxis\":{\"backgroundcolor\":\"#E5ECF6\",\"gridcolor\":\"white\",\"linecolor\":\"white\",\"showbackground\":true,\"ticks\":\"\",\"zerolinecolor\":\"white\",\"gridwidth\":2},\"yaxis\":{\"backgroundcolor\":\"#E5ECF6\",\"gridcolor\":\"white\",\"linecolor\":\"white\",\"showbackground\":true,\"ticks\":\"\",\"zerolinecolor\":\"white\",\"gridwidth\":2},\"zaxis\":{\"backgroundcolor\":\"#E5ECF6\",\"gridcolor\":\"white\",\"linecolor\":\"white\",\"showbackground\":true,\"ticks\":\"\",\"zerolinecolor\":\"white\",\"gridwidth\":2}},\"shapedefaults\":{\"line\":{\"color\":\"#2a3f5f\"}},\"annotationdefaults\":{\"arrowcolor\":\"#2a3f5f\",\"arrowhead\":0,\"arrowwidth\":1},\"geo\":{\"bgcolor\":\"white\",\"landcolor\":\"#E5ECF6\",\"subunitcolor\":\"white\",\"showland\":true,\"showlakes\":true,\"lakecolor\":\"white\"},\"title\":{\"x\":0.05},\"mapbox\":{\"style\":\"light\"}}},\"xaxis\":{\"anchor\":\"y\",\"domain\":[0.0,1.0],\"title\":{\"text\":\"dispatching_base_number\"}},\"yaxis\":{\"anchor\":\"x\",\"domain\":[0.0,1.0],\"title\":{\"text\":\"active_vehicles\"}},\"legend\":{\"tracegroupgap\":0},\"margin\":{\"t\":60},\"boxmode\":\"group\"},                        {\"responsive\": true}                    ).then(function(){\n",
       "                            \n",
       "var gd = document.getElementById('71923739-b892-457e-9964-78fa09263605');\n",
       "var x = new MutationObserver(function (mutations, observer) {{\n",
       "        var display = window.getComputedStyle(gd).display;\n",
       "        if (!display || display === 'none') {{\n",
       "            console.log([gd, 'removed!']);\n",
       "            Plotly.purge(gd);\n",
       "            observer.disconnect();\n",
       "        }}\n",
       "}});\n",
       "\n",
       "// Listen for the removal of the full notebook cells\n",
       "var notebookContainer = gd.closest('#notebook-container');\n",
       "if (notebookContainer) {{\n",
       "    x.observe(notebookContainer, {childList: true});\n",
       "}}\n",
       "\n",
       "// Listen for the clearing of the current output cell\n",
       "var outputEl = gd.closest('.output');\n",
       "if (outputEl) {{\n",
       "    x.observe(outputEl, {childList: true});\n",
       "}}\n",
       "\n",
       "                        })                };                });            </script>        </div>"
      ]
     },
     "metadata": {},
     "output_type": "display_data"
    }
   ],
   "source": [
    "px.box(x='dispatching_base_number',y='active_vehicles',data_frame=uber_foil)"
   ]
  },
  {
   "cell_type": "code",
   "execution_count": 16,
   "metadata": {},
   "outputs": [],
   "source": [
    "# COLLECT ENTIRE DATA AND MAKE IT READY FOR EDA"
   ]
  },
  {
   "cell_type": "code",
   "execution_count": 22,
   "metadata": {},
   "outputs": [
    {
     "data": {
      "text/plain": [
       "['uber-raw-data-apr14.csv',\n",
       " 'uber-raw-data-aug14.csv',\n",
       " 'uber-raw-data-janjune-15.csv',\n",
       " 'uber-raw-data-janjune-15_sample.csv',\n",
       " 'uber-raw-data-jul14.csv',\n",
       " 'uber-raw-data-jun14.csv',\n",
       " 'uber-raw-data-may14.csv',\n",
       " 'uber-raw-data-sep14.csv']"
      ]
     },
     "execution_count": 22,
     "metadata": {},
     "output_type": "execute_result"
    }
   ],
   "source": [
    "import os \n",
    "files = os.listdir(r\"C:\\Users\\suraj\\Downloads\\Uber\\Datasets\")[-8:]\n",
    "files"
   ]
  },
  {
   "cell_type": "code",
   "execution_count": 23,
   "metadata": {},
   "outputs": [],
   "source": [
    "files.remove('uber-raw-data-janjune-15.csv')"
   ]
  },
  {
   "cell_type": "code",
   "execution_count": 24,
   "metadata": {},
   "outputs": [],
   "source": [
    "files.remove('uber-raw-data-janjune-15_sample.csv')"
   ]
  },
  {
   "cell_type": "code",
   "execution_count": 25,
   "metadata": {},
   "outputs": [
    {
     "data": {
      "text/plain": [
       "['uber-raw-data-apr14.csv',\n",
       " 'uber-raw-data-aug14.csv',\n",
       " 'uber-raw-data-jul14.csv',\n",
       " 'uber-raw-data-jun14.csv',\n",
       " 'uber-raw-data-may14.csv',\n",
       " 'uber-raw-data-sep14.csv']"
      ]
     },
     "execution_count": 25,
     "metadata": {},
     "output_type": "execute_result"
    }
   ],
   "source": [
    "files"
   ]
  },
  {
   "cell_type": "code",
   "execution_count": 26,
   "metadata": {},
   "outputs": [],
   "source": [
    "final = pd.DataFrame()\n",
    "path = r\"C:\\Users\\suraj\\Downloads\\Uber\\Datasets\"\n",
    "\n",
    "for file in files:\n",
    "    current_df = pd.read_csv(path+'/'+file)\n",
    "    final = pd.concat([current_df,final])"
   ]
  },
  {
   "cell_type": "code",
   "execution_count": 27,
   "metadata": {},
   "outputs": [
    {
     "data": {
      "text/plain": [
       "(4534327, 4)"
      ]
     },
     "execution_count": 27,
     "metadata": {},
     "output_type": "execute_result"
    }
   ],
   "source": [
    "final.shape"
   ]
  },
  {
   "cell_type": "code",
   "execution_count": 28,
   "metadata": {},
   "outputs": [
    {
     "data": {
      "text/plain": [
       "np.int64(82581)"
      ]
     },
     "execution_count": 28,
     "metadata": {},
     "output_type": "execute_result"
    }
   ],
   "source": [
    "final.duplicated().sum()"
   ]
  },
  {
   "cell_type": "code",
   "execution_count": 29,
   "metadata": {},
   "outputs": [],
   "source": [
    "final.drop_duplicates(inplace=True)"
   ]
  },
  {
   "cell_type": "code",
   "execution_count": 30,
   "metadata": {},
   "outputs": [
    {
     "data": {
      "text/plain": [
       "(4451746, 4)"
      ]
     },
     "execution_count": 30,
     "metadata": {},
     "output_type": "execute_result"
    }
   ],
   "source": [
    "final.shape"
   ]
  },
  {
   "cell_type": "code",
   "execution_count": 31,
   "metadata": {},
   "outputs": [
    {
     "data": {
      "text/html": [
       "<div>\n",
       "<style scoped>\n",
       "    .dataframe tbody tr th:only-of-type {\n",
       "        vertical-align: middle;\n",
       "    }\n",
       "\n",
       "    .dataframe tbody tr th {\n",
       "        vertical-align: top;\n",
       "    }\n",
       "\n",
       "    .dataframe thead th {\n",
       "        text-align: right;\n",
       "    }\n",
       "</style>\n",
       "<table border=\"1\" class=\"dataframe\">\n",
       "  <thead>\n",
       "    <tr style=\"text-align: right;\">\n",
       "      <th></th>\n",
       "      <th>Date/Time</th>\n",
       "      <th>Lat</th>\n",
       "      <th>Lon</th>\n",
       "      <th>Base</th>\n",
       "    </tr>\n",
       "  </thead>\n",
       "  <tbody>\n",
       "    <tr>\n",
       "      <th>0</th>\n",
       "      <td>9/1/2014 0:01:00</td>\n",
       "      <td>40.2201</td>\n",
       "      <td>-74.0021</td>\n",
       "      <td>B02512</td>\n",
       "    </tr>\n",
       "    <tr>\n",
       "      <th>1</th>\n",
       "      <td>9/1/2014 0:01:00</td>\n",
       "      <td>40.7500</td>\n",
       "      <td>-74.0027</td>\n",
       "      <td>B02512</td>\n",
       "    </tr>\n",
       "    <tr>\n",
       "      <th>2</th>\n",
       "      <td>9/1/2014 0:03:00</td>\n",
       "      <td>40.7559</td>\n",
       "      <td>-73.9864</td>\n",
       "      <td>B02512</td>\n",
       "    </tr>\n",
       "    <tr>\n",
       "      <th>3</th>\n",
       "      <td>9/1/2014 0:06:00</td>\n",
       "      <td>40.7450</td>\n",
       "      <td>-73.9889</td>\n",
       "      <td>B02512</td>\n",
       "    </tr>\n",
       "    <tr>\n",
       "      <th>4</th>\n",
       "      <td>9/1/2014 0:11:00</td>\n",
       "      <td>40.8145</td>\n",
       "      <td>-73.9444</td>\n",
       "      <td>B02512</td>\n",
       "    </tr>\n",
       "  </tbody>\n",
       "</table>\n",
       "</div>"
      ],
      "text/plain": [
       "          Date/Time      Lat      Lon    Base\n",
       "0  9/1/2014 0:01:00  40.2201 -74.0021  B02512\n",
       "1  9/1/2014 0:01:00  40.7500 -74.0027  B02512\n",
       "2  9/1/2014 0:03:00  40.7559 -73.9864  B02512\n",
       "3  9/1/2014 0:06:00  40.7450 -73.9889  B02512\n",
       "4  9/1/2014 0:11:00  40.8145 -73.9444  B02512"
      ]
     },
     "execution_count": 31,
     "metadata": {},
     "output_type": "execute_result"
    }
   ],
   "source": [
    "final.head()"
   ]
  },
  {
   "cell_type": "code",
   "execution_count": 32,
   "metadata": {},
   "outputs": [],
   "source": [
    "#AT WHAT LOCATION OF NEWYORK CITY WE ARE GETTING RUSH"
   ]
  },
  {
   "cell_type": "code",
   "execution_count": 35,
   "metadata": {},
   "outputs": [
    {
     "data": {
      "text/html": [
       "<div>\n",
       "<style scoped>\n",
       "    .dataframe tbody tr th:only-of-type {\n",
       "        vertical-align: middle;\n",
       "    }\n",
       "\n",
       "    .dataframe tbody tr th {\n",
       "        vertical-align: top;\n",
       "    }\n",
       "\n",
       "    .dataframe thead th {\n",
       "        text-align: right;\n",
       "    }\n",
       "</style>\n",
       "<table border=\"1\" class=\"dataframe\">\n",
       "  <thead>\n",
       "    <tr style=\"text-align: right;\">\n",
       "      <th></th>\n",
       "      <th>Lat</th>\n",
       "      <th>Lon</th>\n",
       "      <th>size</th>\n",
       "    </tr>\n",
       "  </thead>\n",
       "  <tbody>\n",
       "    <tr>\n",
       "      <th>0</th>\n",
       "      <td>39.6569</td>\n",
       "      <td>-74.2258</td>\n",
       "      <td>1</td>\n",
       "    </tr>\n",
       "    <tr>\n",
       "      <th>1</th>\n",
       "      <td>39.6686</td>\n",
       "      <td>-74.1607</td>\n",
       "      <td>1</td>\n",
       "    </tr>\n",
       "    <tr>\n",
       "      <th>2</th>\n",
       "      <td>39.7214</td>\n",
       "      <td>-74.2446</td>\n",
       "      <td>1</td>\n",
       "    </tr>\n",
       "    <tr>\n",
       "      <th>3</th>\n",
       "      <td>39.8416</td>\n",
       "      <td>-74.1512</td>\n",
       "      <td>1</td>\n",
       "    </tr>\n",
       "    <tr>\n",
       "      <th>4</th>\n",
       "      <td>39.9055</td>\n",
       "      <td>-74.0791</td>\n",
       "      <td>1</td>\n",
       "    </tr>\n",
       "    <tr>\n",
       "      <th>...</th>\n",
       "      <td>...</td>\n",
       "      <td>...</td>\n",
       "      <td>...</td>\n",
       "    </tr>\n",
       "    <tr>\n",
       "      <th>574553</th>\n",
       "      <td>41.3730</td>\n",
       "      <td>-72.9237</td>\n",
       "      <td>1</td>\n",
       "    </tr>\n",
       "    <tr>\n",
       "      <th>574554</th>\n",
       "      <td>41.3737</td>\n",
       "      <td>-73.7988</td>\n",
       "      <td>1</td>\n",
       "    </tr>\n",
       "    <tr>\n",
       "      <th>574555</th>\n",
       "      <td>41.5016</td>\n",
       "      <td>-72.8987</td>\n",
       "      <td>1</td>\n",
       "    </tr>\n",
       "    <tr>\n",
       "      <th>574556</th>\n",
       "      <td>41.5276</td>\n",
       "      <td>-72.7734</td>\n",
       "      <td>1</td>\n",
       "    </tr>\n",
       "    <tr>\n",
       "      <th>574557</th>\n",
       "      <td>42.1166</td>\n",
       "      <td>-72.0666</td>\n",
       "      <td>1</td>\n",
       "    </tr>\n",
       "  </tbody>\n",
       "</table>\n",
       "<p>574558 rows × 3 columns</p>\n",
       "</div>"
      ],
      "text/plain": [
       "            Lat      Lon  size\n",
       "0       39.6569 -74.2258     1\n",
       "1       39.6686 -74.1607     1\n",
       "2       39.7214 -74.2446     1\n",
       "3       39.8416 -74.1512     1\n",
       "4       39.9055 -74.0791     1\n",
       "...         ...      ...   ...\n",
       "574553  41.3730 -72.9237     1\n",
       "574554  41.3737 -73.7988     1\n",
       "574555  41.5016 -72.8987     1\n",
       "574556  41.5276 -72.7734     1\n",
       "574557  42.1166 -72.0666     1\n",
       "\n",
       "[574558 rows x 3 columns]"
      ]
     },
     "execution_count": 35,
     "metadata": {},
     "output_type": "execute_result"
    }
   ],
   "source": [
    "uber_rush = final.groupby(['Lat','Lon'], as_index=False).size()\n",
    "uber_rush"
   ]
  },
  {
   "cell_type": "code",
   "execution_count": 36,
   "metadata": {},
   "outputs": [
    {
     "name": "stdout",
     "output_type": "stream",
     "text": [
      "Defaulting to user installation because normal site-packages is not writeable\n",
      "Collecting folium\n",
      "  Downloading folium-0.19.4-py2.py3-none-any.whl.metadata (3.8 kB)\n",
      "Collecting branca>=0.6.0 (from folium)\n",
      "  Downloading branca-0.8.1-py3-none-any.whl.metadata (1.5 kB)\n",
      "Requirement already satisfied: jinja2>=2.9 in c:\\users\\suraj\\appdata\\roaming\\python\\python312\\site-packages (from folium) (3.1.4)\n",
      "Requirement already satisfied: numpy in c:\\users\\suraj\\appdata\\roaming\\python\\python312\\site-packages (from folium) (2.1.3)\n",
      "Requirement already satisfied: requests in c:\\users\\suraj\\appdata\\roaming\\python\\python312\\site-packages (from folium) (2.32.3)\n",
      "Collecting xyzservices (from folium)\n",
      "  Downloading xyzservices-2024.9.0-py3-none-any.whl.metadata (4.1 kB)\n",
      "Requirement already satisfied: MarkupSafe>=2.0 in c:\\users\\suraj\\appdata\\roaming\\python\\python312\\site-packages (from jinja2>=2.9->folium) (2.1.5)\n",
      "Requirement already satisfied: charset-normalizer<4,>=2 in c:\\users\\suraj\\appdata\\roaming\\python\\python312\\site-packages (from requests->folium) (3.3.2)\n",
      "Requirement already satisfied: idna<4,>=2.5 in c:\\users\\suraj\\appdata\\roaming\\python\\python312\\site-packages (from requests->folium) (3.10)\n",
      "Requirement already satisfied: urllib3<3,>=1.21.1 in c:\\users\\suraj\\appdata\\roaming\\python\\python312\\site-packages (from requests->folium) (2.2.3)\n",
      "Requirement already satisfied: certifi>=2017.4.17 in c:\\users\\suraj\\appdata\\roaming\\python\\python312\\site-packages (from requests->folium) (2024.8.30)\n",
      "Downloading folium-0.19.4-py2.py3-none-any.whl (110 kB)\n",
      "Downloading branca-0.8.1-py3-none-any.whl (26 kB)\n",
      "Downloading xyzservices-2024.9.0-py3-none-any.whl (85 kB)\n",
      "Installing collected packages: xyzservices, branca, folium\n",
      "Successfully installed branca-0.8.1 folium-0.19.4 xyzservices-2024.9.0\n"
     ]
    },
    {
     "name": "stderr",
     "output_type": "stream",
     "text": [
      "\n",
      "[notice] A new release of pip is available: 24.2 -> 24.3.1\n",
      "[notice] To update, run: python.exe -m pip install --upgrade pip\n"
     ]
    }
   ],
   "source": [
    "! pip install folium"
   ]
  },
  {
   "cell_type": "code",
   "execution_count": 43,
   "metadata": {},
   "outputs": [
    {
     "data": {
      "text/html": [
       "<div style=\"width:100%;\"><div style=\"position:relative;width:100%;height:0;padding-bottom:60%;\"><span style=\"color:#565656\">Make this Notebook Trusted to load map: File -> Trust Notebook</span><iframe srcdoc=\"&lt;!DOCTYPE html&gt;\n",
       "&lt;html&gt;\n",
       "&lt;head&gt;\n",
       "    \n",
       "    &lt;meta http-equiv=&quot;content-type&quot; content=&quot;text/html; charset=UTF-8&quot; /&gt;\n",
       "    \n",
       "        &lt;script&gt;\n",
       "            L_NO_TOUCH = false;\n",
       "            L_DISABLE_3D = false;\n",
       "        &lt;/script&gt;\n",
       "    \n",
       "    &lt;style&gt;html, body {width: 100%;height: 100%;margin: 0;padding: 0;}&lt;/style&gt;\n",
       "    &lt;style&gt;#map {position:absolute;top:0;bottom:0;right:0;left:0;}&lt;/style&gt;\n",
       "    &lt;script src=&quot;https://cdn.jsdelivr.net/npm/leaflet@1.9.3/dist/leaflet.js&quot;&gt;&lt;/script&gt;\n",
       "    &lt;script src=&quot;https://code.jquery.com/jquery-3.7.1.min.js&quot;&gt;&lt;/script&gt;\n",
       "    &lt;script src=&quot;https://cdn.jsdelivr.net/npm/bootstrap@5.2.2/dist/js/bootstrap.bundle.min.js&quot;&gt;&lt;/script&gt;\n",
       "    &lt;script src=&quot;https://cdnjs.cloudflare.com/ajax/libs/Leaflet.awesome-markers/2.0.2/leaflet.awesome-markers.js&quot;&gt;&lt;/script&gt;\n",
       "    &lt;link rel=&quot;stylesheet&quot; href=&quot;https://cdn.jsdelivr.net/npm/leaflet@1.9.3/dist/leaflet.css&quot;/&gt;\n",
       "    &lt;link rel=&quot;stylesheet&quot; href=&quot;https://cdn.jsdelivr.net/npm/bootstrap@5.2.2/dist/css/bootstrap.min.css&quot;/&gt;\n",
       "    &lt;link rel=&quot;stylesheet&quot; href=&quot;https://netdna.bootstrapcdn.com/bootstrap/3.0.0/css/bootstrap-glyphicons.css&quot;/&gt;\n",
       "    &lt;link rel=&quot;stylesheet&quot; href=&quot;https://cdn.jsdelivr.net/npm/@fortawesome/fontawesome-free@6.2.0/css/all.min.css&quot;/&gt;\n",
       "    &lt;link rel=&quot;stylesheet&quot; href=&quot;https://cdnjs.cloudflare.com/ajax/libs/Leaflet.awesome-markers/2.0.2/leaflet.awesome-markers.css&quot;/&gt;\n",
       "    &lt;link rel=&quot;stylesheet&quot; href=&quot;https://cdn.jsdelivr.net/gh/python-visualization/folium/folium/templates/leaflet.awesome.rotate.min.css&quot;/&gt;\n",
       "    \n",
       "            &lt;meta name=&quot;viewport&quot; content=&quot;width=device-width,\n",
       "                initial-scale=1.0, maximum-scale=1.0, user-scalable=no&quot; /&gt;\n",
       "            &lt;style&gt;\n",
       "                #map_efb4fadb75d83ef3c6b9947b9831cb23 {\n",
       "                    position: relative;\n",
       "                    width: 100.0%;\n",
       "                    height: 100.0%;\n",
       "                    left: 0.0%;\n",
       "                    top: 0.0%;\n",
       "                }\n",
       "                .leaflet-container { font-size: 1rem; }\n",
       "            &lt;/style&gt;\n",
       "        \n",
       "&lt;/head&gt;\n",
       "&lt;body&gt;\n",
       "    \n",
       "    \n",
       "            &lt;div class=&quot;folium-map&quot; id=&quot;map_efb4fadb75d83ef3c6b9947b9831cb23&quot; &gt;&lt;/div&gt;\n",
       "        \n",
       "&lt;/body&gt;\n",
       "&lt;script&gt;\n",
       "    \n",
       "    \n",
       "            var map_efb4fadb75d83ef3c6b9947b9831cb23 = L.map(\n",
       "                &quot;map_efb4fadb75d83ef3c6b9947b9831cb23&quot;,\n",
       "                {\n",
       "                    center: [0.0, 0.0],\n",
       "                    crs: L.CRS.EPSG3857,\n",
       "                    ...{\n",
       "  &quot;zoom&quot;: 1,\n",
       "  &quot;zoomControl&quot;: true,\n",
       "  &quot;preferCanvas&quot;: false,\n",
       "}\n",
       "\n",
       "                }\n",
       "            );\n",
       "\n",
       "            \n",
       "\n",
       "        \n",
       "    \n",
       "            var tile_layer_170a29f6754df2f04a00d28fb31f12ff = L.tileLayer(\n",
       "                &quot;https://tile.openstreetmap.org/{z}/{x}/{y}.png&quot;,\n",
       "                {\n",
       "  &quot;minZoom&quot;: 0,\n",
       "  &quot;maxZoom&quot;: 19,\n",
       "  &quot;maxNativeZoom&quot;: 19,\n",
       "  &quot;noWrap&quot;: false,\n",
       "  &quot;attribution&quot;: &quot;\\u0026copy; \\u003ca href=\\&quot;https://www.openstreetmap.org/copyright\\&quot;\\u003eOpenStreetMap\\u003c/a\\u003e contributors&quot;,\n",
       "  &quot;subdomains&quot;: &quot;abc&quot;,\n",
       "  &quot;detectRetina&quot;: false,\n",
       "  &quot;tms&quot;: false,\n",
       "  &quot;opacity&quot;: 1,\n",
       "}\n",
       "\n",
       "            );\n",
       "        \n",
       "    \n",
       "            tile_layer_170a29f6754df2f04a00d28fb31f12ff.addTo(map_efb4fadb75d83ef3c6b9947b9831cb23);\n",
       "        \n",
       "&lt;/script&gt;\n",
       "&lt;/html&gt;\" style=\"position:absolute;width:100%;height:100%;left:0;top:0;border:none !important;\" allowfullscreen webkitallowfullscreen mozallowfullscreen></iframe></div></div>"
      ],
      "text/plain": [
       "<folium.folium.Map at 0x1ee39b023f0>"
      ]
     },
     "execution_count": 43,
     "metadata": {},
     "output_type": "execute_result"
    }
   ],
   "source": [
    "import folium\n",
    "basemap = folium.Map()\n",
    "basemap\n"
   ]
  },
  {
   "cell_type": "code",
   "execution_count": 44,
   "metadata": {},
   "outputs": [],
   "source": [
    "from folium.plugins import HeatMap"
   ]
  },
  {
   "cell_type": "code",
   "execution_count": 45,
   "metadata": {},
   "outputs": [
    {
     "data": {
      "text/plain": [
       "<folium.plugins.heat_map.HeatMap at 0x1ee39be3530>"
      ]
     },
     "execution_count": 45,
     "metadata": {},
     "output_type": "execute_result"
    }
   ],
   "source": [
    "HeatMap(uber_rush).add_to(basemap)"
   ]
  },
  {
   "cell_type": "code",
   "execution_count": null,
   "metadata": {},
   "outputs": [],
   "source": [
    "basemap"
   ]
  }
 ],
 "metadata": {
  "kernelspec": {
   "display_name": "Python 3",
   "language": "python",
   "name": "python3"
  },
  "language_info": {
   "codemirror_mode": {
    "name": "ipython",
    "version": 3
   },
   "file_extension": ".py",
   "mimetype": "text/x-python",
   "name": "python",
   "nbconvert_exporter": "python",
   "pygments_lexer": "ipython3",
   "version": "3.12.7"
  }
 },
 "nbformat": 4,
 "nbformat_minor": 2
}
